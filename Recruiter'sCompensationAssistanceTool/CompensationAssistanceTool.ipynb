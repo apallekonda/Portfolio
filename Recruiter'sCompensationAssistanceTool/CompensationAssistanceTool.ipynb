{
 "cells": [
  {
   "cell_type": "markdown",
   "metadata": {},
   "source": [
    "# Recruiter's Compensation Assistance Tool"
   ]
  },
  {
   "cell_type": "markdown",
   "metadata": {},
   "source": [
    "## Defining problem statement\n",
    "\n",
    "Predicting salary for a position is highly crucial in either talent acquisition team's perspective or job seeker's perspective. The main goal of this analysis is to predict the salary for a position based on various factors in recruiter's perspective. By the end of this analysis, we build a sophisticated mathematical model which can predict the salary for a job based on its features. For this analysis, we are going to use two million observations with various variables. We can discuss more on this in the following sections.\n",
    "\n",
    "\n",
    "### Evaluation Methods\n",
    "\n",
    "In this analysis, we use MSE(Mean Squared Error) as an evaluation metric to identify the predictive power of the developed mathematical model.\n",
    "\n",
    "*If a vector of ***n*** predictions generated from a sample of n data points on all variables, and ***Y*** is the vector of observed values of the variable being predicted, then the within-sample MSE of the predictor is computed as*\n",
    "\n",
    "> ${\\displaystyle \\operatorname {MSE} ={\\frac {1}{n}}\\sum _{i=1}^{n}(Y_{i}-{\\hat {Y_{i}}})^{2}.}$"
   ]
  },
  {
   "cell_type": "markdown",
   "metadata": {},
   "source": [
    "### About Data\n",
    "\n",
    "In this section, we are going to discuss various topics such as loading data into the computational environment,  underlying distributions, exploratory analysis, and preprocessing of data.\n",
    "\n",
    "Available features for this analysis are <br>\n",
    "-  **JobId:** Job id for the role.<br>\n",
    "-  **CompanyId:** Company id for the respective job id.<br>\n",
    "-  **Degree:** Applicant's degree for the respective job id. <br>\n",
    "-  **Major:** Specialization of major degree for the respective applicant.<br>\n",
    "-  **Industry:** Job industry for the respective job id.<br>\n",
    "-  **YearsOfExperience:** Required years of experience for the respective job id.<br>\n",
    "-  **MilesFromMetropolis:** Distance between the work area and nearby metropolitan city.<br>\n",
    "-  **Salary:** Salary in thousands for the respective job id.<br>"
   ]
  },
  {
   "cell_type": "markdown",
   "metadata": {},
   "source": [
    "## Discover Data Insights\n",
    "\n",
    "### Load the data "
   ]
  },
  {
   "cell_type": "code",
   "execution_count": 2,
   "metadata": {},
   "outputs": [],
   "source": [
    "#  import necessary libraries\n",
    "\n",
    "import pandas as pd\n",
    "import numpy as np\n",
    "import seaborn as sns\n",
    "import matplotlib.pyplot as plt\n",
    "\n",
    "from sklearn.utils import shuffle\n",
    "from sklearn.model_selection import train_test_split, GridSearchCV, cross_val_score\n",
    "from sklearn.preprocessing import normalize, StandardScaler, LabelEncoder, PolynomialFeatures, MinMaxScaler\n",
    "from sklearn.linear_model import LinearRegression, Ridge, Lasso\n",
    "from sklearn.ensemble import RandomForestRegressor, GradientBoostingRegressor\n",
    "from sklearn.metrics import mean_squared_error\n",
    "from sklearn.pipeline import make_pipeline, Pipeline\n",
    "from sklearn.externals import joblib\n",
    "import lightgbm as lgbm\n",
    "import warnings\n",
    "import sys\n",
    "if not sys.warnoptions:\n",
    "    warnings.simplefilter(\"ignore\")\n",
    "\n",
    "%matplotlib inline\n",
    "sns.set()"
   ]
  },
  {
   "cell_type": "code",
   "execution_count": 3,
   "metadata": {},
   "outputs": [
    {
     "data": {
      "text/plain": [
       "((1000000, 9), (1000000, 8), (1000000, 2), (1000000, 8))"
      ]
     },
     "execution_count": 3,
     "metadata": {},
     "output_type": "execute_result"
    }
   ],
   "source": [
    "#  load the data into the environment\n",
    "\n",
    "feature_file_path = '/Users/anilkumar/Anils/DSDJ/portfolio/Draft/SalaryPridiction/data/train_features.csv'\n",
    "target_file_path = '/Users/anilkumar/Anils/DSDJ/portfolio/Draft/SalaryPridiction/data/train_salaries.csv'\n",
    "test_file_path = '/Users/anilkumar/Anils/DSDJ/portfolio/Draft/SalaryPridiction/data/test_features.csv'\n",
    "traget_col = 'salary'\n",
    "common_col = 'jobId'\n",
    "\n",
    "feat_df = pd.read_csv(feature_file_path)\n",
    "tar_df = pd.read_csv(target_file_path)\n",
    "test_df = pd.read_csv(test_file_path)\n",
    "feature_df = pd.merge(feat_df, tar_df, on=common_col, how='inner')\n",
    "\n",
    "feature_df.shape, feat_df.shape, tar_df.shape, test_df.shape"
   ]
  },
  {
   "cell_type": "code",
   "execution_count": 4,
   "metadata": {},
   "outputs": [],
   "source": [
    "# del(feat_df, tar_df)"
   ]
  },
  {
   "cell_type": "markdown",
   "metadata": {},
   "source": [
    "***`Before doing any further analysis, let's understand the data by answering several questions.`***"
   ]
  },
  {
   "cell_type": "markdown",
   "metadata": {},
   "source": [
    "##### Do we have any missing values?"
   ]
  },
  {
   "cell_type": "code",
   "execution_count": 5,
   "metadata": {},
   "outputs": [
    {
     "data": {
      "text/plain": [
       "jobId                  0\n",
       "companyId              0\n",
       "jobType                0\n",
       "degree                 0\n",
       "major                  0\n",
       "industry               0\n",
       "yearsExperience        0\n",
       "milesFromMetropolis    0\n",
       "salary                 0\n",
       "dtype: int64"
      ]
     },
     "execution_count": 5,
     "metadata": {},
     "output_type": "execute_result"
    }
   ],
   "source": [
    "# Total number of null values in the feature dataset\n",
    "feature_df.isnull().sum()"
   ]
  },
  {
   "cell_type": "code",
   "execution_count": 6,
   "metadata": {},
   "outputs": [
    {
     "data": {
      "text/plain": [
       "jobId                  0\n",
       "companyId              0\n",
       "jobType                0\n",
       "degree                 0\n",
       "major                  0\n",
       "industry               0\n",
       "yearsExperience        0\n",
       "milesFromMetropolis    0\n",
       "dtype: int64"
      ]
     },
     "execution_count": 6,
     "metadata": {},
     "output_type": "execute_result"
    }
   ],
   "source": [
    "# Total number of null values in the test dataset\n",
    "test_df.isnull().sum()"
   ]
  },
  {
   "cell_type": "markdown",
   "metadata": {},
   "source": [
    " Well! There are `no missing values` in given train and test datasets."
   ]
  },
  {
   "cell_type": "markdown",
   "metadata": {},
   "source": [
    "##### How many unique values we have for each category?"
   ]
  },
  {
   "cell_type": "code",
   "execution_count": 7,
   "metadata": {},
   "outputs": [
    {
     "data": {
      "text/plain": [
       "jobId                  1000000\n",
       "companyId                   63\n",
       "jobType                      8\n",
       "degree                       5\n",
       "major                        9\n",
       "industry                     7\n",
       "yearsExperience             25\n",
       "milesFromMetropolis        100\n",
       "salary                     280\n",
       "dtype: int64"
      ]
     },
     "execution_count": 7,
     "metadata": {},
     "output_type": "execute_result"
    }
   ],
   "source": [
    "# number of unique features in the feature dataset\n",
    "feature_df.nunique()"
   ]
  },
  {
   "cell_type": "markdown",
   "metadata": {},
   "source": [
    "It looks like `jobId` feature has unique values in the dataset as the number of observations is equal to the number of unique values. `CompanyId` feature has `63`, `jobType` feature has `8`, `degree` feature has `5`, `major` feature has `9`, `industry` feature has `7`, `yearsExperience` feature has `25` and `milesFromMetropolis` feature has `100` unique values."
   ]
  },
  {
   "cell_type": "markdown",
   "metadata": {},
   "source": [
    "##### What kind of features exists? How does data look like?"
   ]
  },
  {
   "cell_type": "code",
   "execution_count": 8,
   "metadata": {},
   "outputs": [
    {
     "data": {
      "text/plain": [
       "jobId                  object\n",
       "companyId              object\n",
       "jobType                object\n",
       "degree                 object\n",
       "major                  object\n",
       "industry               object\n",
       "yearsExperience         int64\n",
       "milesFromMetropolis     int64\n",
       "salary                  int64\n",
       "dtype: object"
      ]
     },
     "execution_count": 8,
     "metadata": {},
     "output_type": "execute_result"
    }
   ],
   "source": [
    "# let's look into the data types in data\n",
    "feature_df.dtypes"
   ]
  },
  {
   "cell_type": "markdown",
   "metadata": {},
   "source": [
    "It looks like we have both categorical and numerical values, `jobId, companyID, jobType, degree, major, industry` features are having categorical observations and `yearsExperience, milesFromMetropolis, salary` features are numerical observations.<br>\n",
    "<br>\n",
    "Let's look at few rows of data."
   ]
  },
  {
   "cell_type": "code",
   "execution_count": 9,
   "metadata": {},
   "outputs": [
    {
     "data": {
      "text/html": [
       "<div>\n",
       "<style scoped>\n",
       "    .dataframe tbody tr th:only-of-type {\n",
       "        vertical-align: middle;\n",
       "    }\n",
       "\n",
       "    .dataframe tbody tr th {\n",
       "        vertical-align: top;\n",
       "    }\n",
       "\n",
       "    .dataframe thead th {\n",
       "        text-align: right;\n",
       "    }\n",
       "</style>\n",
       "<table border=\"1\" class=\"dataframe\">\n",
       "  <thead>\n",
       "    <tr style=\"text-align: right;\">\n",
       "      <th></th>\n",
       "      <th>jobId</th>\n",
       "      <th>companyId</th>\n",
       "      <th>jobType</th>\n",
       "      <th>degree</th>\n",
       "      <th>major</th>\n",
       "      <th>industry</th>\n",
       "      <th>yearsExperience</th>\n",
       "      <th>milesFromMetropolis</th>\n",
       "      <th>salary</th>\n",
       "    </tr>\n",
       "  </thead>\n",
       "  <tbody>\n",
       "    <tr>\n",
       "      <th>0</th>\n",
       "      <td>JOB1362684407687</td>\n",
       "      <td>COMP37</td>\n",
       "      <td>CFO</td>\n",
       "      <td>MASTERS</td>\n",
       "      <td>MATH</td>\n",
       "      <td>HEALTH</td>\n",
       "      <td>10</td>\n",
       "      <td>83</td>\n",
       "      <td>130</td>\n",
       "    </tr>\n",
       "    <tr>\n",
       "      <th>1</th>\n",
       "      <td>JOB1362684407688</td>\n",
       "      <td>COMP19</td>\n",
       "      <td>CEO</td>\n",
       "      <td>HIGH_SCHOOL</td>\n",
       "      <td>NONE</td>\n",
       "      <td>WEB</td>\n",
       "      <td>3</td>\n",
       "      <td>73</td>\n",
       "      <td>101</td>\n",
       "    </tr>\n",
       "    <tr>\n",
       "      <th>2</th>\n",
       "      <td>JOB1362684407689</td>\n",
       "      <td>COMP52</td>\n",
       "      <td>VICE_PRESIDENT</td>\n",
       "      <td>DOCTORAL</td>\n",
       "      <td>PHYSICS</td>\n",
       "      <td>HEALTH</td>\n",
       "      <td>10</td>\n",
       "      <td>38</td>\n",
       "      <td>137</td>\n",
       "    </tr>\n",
       "  </tbody>\n",
       "</table>\n",
       "</div>"
      ],
      "text/plain": [
       "              jobId companyId         jobType       degree    major industry  \\\n",
       "0  JOB1362684407687    COMP37             CFO      MASTERS     MATH   HEALTH   \n",
       "1  JOB1362684407688    COMP19             CEO  HIGH_SCHOOL     NONE      WEB   \n",
       "2  JOB1362684407689    COMP52  VICE_PRESIDENT     DOCTORAL  PHYSICS   HEALTH   \n",
       "\n",
       "   yearsExperience  milesFromMetropolis  salary  \n",
       "0               10                   83     130  \n",
       "1                3                   73     101  \n",
       "2               10                   38     137  "
      ]
     },
     "execution_count": 9,
     "metadata": {},
     "output_type": "execute_result"
    }
   ],
   "source": [
    "# first 3 row of data\n",
    "feature_df.head(3)"
   ]
  },
  {
   "cell_type": "markdown",
   "metadata": {},
   "source": [
    "Now the type of data from the previous table makes sense.<br>\n",
    "\n",
    "As per problem definition, we understand that we are going to predict the salary. We need to clean the dataset further based on this target feature.<br>\n",
    "\n",
    "##### Do we have any observations with salary 0?"
   ]
  },
  {
   "cell_type": "code",
   "execution_count": 10,
   "metadata": {},
   "outputs": [
    {
     "data": {
      "text/plain": [
       "5"
      ]
     },
     "execution_count": 10,
     "metadata": {},
     "output_type": "execute_result"
    }
   ],
   "source": [
    "# Check for salary 0\n",
    "\n",
    "len(feature_df[feature_df['salary'] ==0])"
   ]
  },
  {
   "cell_type": "code",
   "execution_count": 11,
   "metadata": {},
   "outputs": [
    {
     "data": {
      "text/html": [
       "<div>\n",
       "<style scoped>\n",
       "    .dataframe tbody tr th:only-of-type {\n",
       "        vertical-align: middle;\n",
       "    }\n",
       "\n",
       "    .dataframe tbody tr th {\n",
       "        vertical-align: top;\n",
       "    }\n",
       "\n",
       "    .dataframe thead th {\n",
       "        text-align: right;\n",
       "    }\n",
       "</style>\n",
       "<table border=\"1\" class=\"dataframe\">\n",
       "  <thead>\n",
       "    <tr style=\"text-align: right;\">\n",
       "      <th></th>\n",
       "      <th>jobId</th>\n",
       "      <th>companyId</th>\n",
       "      <th>jobType</th>\n",
       "      <th>degree</th>\n",
       "      <th>major</th>\n",
       "      <th>industry</th>\n",
       "      <th>yearsExperience</th>\n",
       "      <th>milesFromMetropolis</th>\n",
       "      <th>salary</th>\n",
       "    </tr>\n",
       "  </thead>\n",
       "  <tbody>\n",
       "    <tr>\n",
       "      <th>30559</th>\n",
       "      <td>JOB1362684438246</td>\n",
       "      <td>COMP44</td>\n",
       "      <td>JUNIOR</td>\n",
       "      <td>DOCTORAL</td>\n",
       "      <td>MATH</td>\n",
       "      <td>AUTO</td>\n",
       "      <td>11</td>\n",
       "      <td>7</td>\n",
       "      <td>0</td>\n",
       "    </tr>\n",
       "    <tr>\n",
       "      <th>495984</th>\n",
       "      <td>JOB1362684903671</td>\n",
       "      <td>COMP34</td>\n",
       "      <td>JUNIOR</td>\n",
       "      <td>NONE</td>\n",
       "      <td>NONE</td>\n",
       "      <td>OIL</td>\n",
       "      <td>1</td>\n",
       "      <td>25</td>\n",
       "      <td>0</td>\n",
       "    </tr>\n",
       "    <tr>\n",
       "      <th>652076</th>\n",
       "      <td>JOB1362685059763</td>\n",
       "      <td>COMP25</td>\n",
       "      <td>CTO</td>\n",
       "      <td>HIGH_SCHOOL</td>\n",
       "      <td>NONE</td>\n",
       "      <td>AUTO</td>\n",
       "      <td>6</td>\n",
       "      <td>60</td>\n",
       "      <td>0</td>\n",
       "    </tr>\n",
       "    <tr>\n",
       "      <th>816129</th>\n",
       "      <td>JOB1362685223816</td>\n",
       "      <td>COMP42</td>\n",
       "      <td>MANAGER</td>\n",
       "      <td>DOCTORAL</td>\n",
       "      <td>ENGINEERING</td>\n",
       "      <td>FINANCE</td>\n",
       "      <td>18</td>\n",
       "      <td>6</td>\n",
       "      <td>0</td>\n",
       "    </tr>\n",
       "    <tr>\n",
       "      <th>828156</th>\n",
       "      <td>JOB1362685235843</td>\n",
       "      <td>COMP40</td>\n",
       "      <td>VICE_PRESIDENT</td>\n",
       "      <td>MASTERS</td>\n",
       "      <td>ENGINEERING</td>\n",
       "      <td>WEB</td>\n",
       "      <td>3</td>\n",
       "      <td>29</td>\n",
       "      <td>0</td>\n",
       "    </tr>\n",
       "  </tbody>\n",
       "</table>\n",
       "</div>"
      ],
      "text/plain": [
       "                   jobId companyId         jobType       degree        major  \\\n",
       "30559   JOB1362684438246    COMP44          JUNIOR     DOCTORAL         MATH   \n",
       "495984  JOB1362684903671    COMP34          JUNIOR         NONE         NONE   \n",
       "652076  JOB1362685059763    COMP25             CTO  HIGH_SCHOOL         NONE   \n",
       "816129  JOB1362685223816    COMP42         MANAGER     DOCTORAL  ENGINEERING   \n",
       "828156  JOB1362685235843    COMP40  VICE_PRESIDENT      MASTERS  ENGINEERING   \n",
       "\n",
       "       industry  yearsExperience  milesFromMetropolis  salary  \n",
       "30559      AUTO               11                    7       0  \n",
       "495984      OIL                1                   25       0  \n",
       "652076     AUTO                6                   60       0  \n",
       "816129  FINANCE               18                    6       0  \n",
       "828156      WEB                3                   29       0  "
      ]
     },
     "execution_count": 11,
     "metadata": {},
     "output_type": "execute_result"
    }
   ],
   "source": [
    "# observations with salary is zero\n",
    "feature_df[feature_df['salary'] ==0]"
   ]
  },
  {
   "cell_type": "markdown",
   "metadata": {},
   "source": [
    "OOOPS! There are 5 rows with a salary equal to  **$0.00 USD**. When we look at the data, these observations are not realistic and doesn't make sense to have them in the dataset. We are removing these observations since the count is very less and negligible.\n",
    "\n"
   ]
  },
  {
   "cell_type": "markdown",
   "metadata": {},
   "source": [
    "##### What is the distribution of the target feature?"
   ]
  },
  {
   "cell_type": "code",
   "execution_count": 12,
   "metadata": {},
   "outputs": [
    {
     "data": {
      "text/plain": [
       "Text(0.5, 0.98, 'Distribution of salary')"
      ]
     },
     "execution_count": 12,
     "metadata": {},
     "output_type": "execute_result"
    },
    {
     "data": {
      "image/png": "[encoded data removed]",
      "text/plain": [
       "<Figure size 1080x432 with 2 Axes>"
      ]
     },
     "metadata": {},
     "output_type": "display_data"
    }
   ],
   "source": [
    "# plot salary distributions\n",
    "f, ax = plt.subplots(1,2,figsize=(15,6))\n",
    "sns.distplot(feature_df['salary'], ax=ax[0], kde=True, norm_hist=True)\n",
    "ax[0].axvline(np.mean(feature_df['salary']), color='black')\n",
    "ax[0].axvline(np.median(feature_df['salary']), color='darkblue', linestyle='--')\n",
    "ax[0].set_title('Salary Histogram',fontsize=14)\n",
    "sns.boxplot(feature_df['salary'], ax=ax[1], color='maroon')\n",
    "ax[1].set_title('Salary Boxplot',fontsize=14)\n",
    "f.suptitle('Distribution of salary', fontsize=18)"
   ]
  },
  {
   "cell_type": "markdown",
   "metadata": {},
   "source": [
    "When we see the salary distributions in the histogram plot, we can observe the data is slightly skewed to the right. Mean and median have lied around 120. At the same time, the box plot shows that there are more values lied after the right whisker of the box plot. We need to examine those values and should treat them before going for further analysis if they are outliers or not."
   ]
  },
  {
   "cell_type": "markdown",
   "metadata": {},
   "source": [
    "##### Are they outliers?\n"
   ]
  },
  {
   "cell_type": "code",
   "execution_count": 13,
   "metadata": {},
   "outputs": [],
   "source": [
    "#  find the IQR\n",
    "def outlier_finder(x):\n",
    "    x = sorted(x)\n",
    "    first_quant, med_val, third_quant = np.percentile(x, [25,50,75])\n",
    "    IQR = third_quant-first_quant\n",
    "    lower_bound = first_quant-1.5*IQR\n",
    "    upper_bound = third_quant+1.5*IQR\n",
    "    print(f'The lower bound value is: {lower_bound}')\n",
    "    print(f'The upper bound value is: {upper_bound}')\n",
    "    print(f'The IQR value is: {IQR}')\n",
    "    print(f'The 25% value is: {first_quant}')\n",
    "    print(f'The 75% bound value is: {third_quant}')\n",
    "    print(f'The median value is :{med_val}')\n",
    "    \n",
    "    print(f'\\n***NOTE: Please examine the values lied above the upper bound values before considering them as outliers.')\n",
    "    \n",
    "    return lower_bound, first_quant, med_val, third_quant, upper_bound\n"
   ]
  },
  {
   "cell_type": "code",
   "execution_count": 14,
   "metadata": {},
   "outputs": [
    {
     "name": "stdout",
     "output_type": "stream",
     "text": [
      "The lower bound value is: 8.5\n",
      "The upper bound value is: 220.5\n",
      "The IQR value is: 53.0\n",
      "The 25% value is: 88.0\n",
      "The 75% bound value is: 141.0\n",
      "The median value is :114.0\n",
      "\n",
      "***NOTE: Please examine the values lied above the upper bound values before considering them as outliers.\n"
     ]
    },
    {
     "data": {
      "text/plain": [
       "(8.5, 88.0, 114.0, 141.0, 220.5)"
      ]
     },
     "execution_count": 14,
     "metadata": {},
     "output_type": "execute_result"
    }
   ],
   "source": [
    "# determine the IQR for featuer dataset\n",
    "outlier_finder(feature_df['salary'])"
   ]
  },
  {
   "cell_type": "code",
   "execution_count": 15,
   "metadata": {},
   "outputs": [
    {
     "name": "stdout",
     "output_type": "stream",
     "text": [
      " There are 5 rows in the dataset below the lower bound of the salary(According to IQR).\n",
      " There are 7117 rows in the dataset below the lower bound of the salary(According to IQR).\n"
     ]
    }
   ],
   "source": [
    "# print number of observations lied below the lower limit and above the upper limit\n",
    "\n",
    "print(f' There are {len(feature_df[feature_df[\"salary\"] < 8.5])} rows in the dataset below the lower bound of the salary(According to IQR).')\n",
    "\n",
    "print(f' There are {len(feature_df[feature_df[\"salary\"] > 220.5])} rows in the dataset below the lower bound of the salary(According to IQR).')\n",
    "\n"
   ]
  },
  {
   "cell_type": "markdown",
   "metadata": {},
   "source": [
    "Well! There are 5 observations below the lower bound limit, but we have 7177 observations above the upper bound limit. Let's look at those values.\n"
   ]
  },
  {
   "cell_type": "code",
   "execution_count": 16,
   "metadata": {},
   "outputs": [
    {
     "data": {
      "text/plain": [
       "CEO               3227\n",
       "CFO               1496\n",
       "CTO               1488\n",
       "VICE_PRESIDENT     603\n",
       "MANAGER            217\n",
       "SENIOR              66\n",
       "JUNIOR              20\n",
       "Name: jobType, dtype: int64"
      ]
     },
     "execution_count": 16,
     "metadata": {},
     "output_type": "execute_result"
    }
   ],
   "source": [
    "feature_df[feature_df['salary'] > 220.5]['jobType'].value_counts()"
   ]
  },
  {
   "cell_type": "markdown",
   "metadata": {},
   "source": [
    "Based on the above table, executive level, middle and senior-level positions have salaries more than `220K+` is reasonable, but junior level employees also have 220K+ salaries. This criterion needs a check for significance."
   ]
  },
  {
   "cell_type": "code",
   "execution_count": 17,
   "metadata": {},
   "outputs": [
    {
     "data": {
      "text/html": [
       "<div>\n",
       "<style scoped>\n",
       "    .dataframe tbody tr th:only-of-type {\n",
       "        vertical-align: middle;\n",
       "    }\n",
       "\n",
       "    .dataframe tbody tr th {\n",
       "        vertical-align: top;\n",
       "    }\n",
       "\n",
       "    .dataframe thead th {\n",
       "        text-align: right;\n",
       "    }\n",
       "</style>\n",
       "<table border=\"1\" class=\"dataframe\">\n",
       "  <thead>\n",
       "    <tr style=\"text-align: right;\">\n",
       "      <th></th>\n",
       "      <th>jobId</th>\n",
       "      <th>companyId</th>\n",
       "      <th>jobType</th>\n",
       "      <th>degree</th>\n",
       "      <th>major</th>\n",
       "      <th>industry</th>\n",
       "      <th>yearsExperience</th>\n",
       "      <th>milesFromMetropolis</th>\n",
       "      <th>salary</th>\n",
       "    </tr>\n",
       "  </thead>\n",
       "  <tbody>\n",
       "    <tr>\n",
       "      <th>100042</th>\n",
       "      <td>JOB1362684507729</td>\n",
       "      <td>COMP17</td>\n",
       "      <td>JUNIOR</td>\n",
       "      <td>DOCTORAL</td>\n",
       "      <td>BUSINESS</td>\n",
       "      <td>FINANCE</td>\n",
       "      <td>23</td>\n",
       "      <td>8</td>\n",
       "      <td>248</td>\n",
       "    </tr>\n",
       "    <tr>\n",
       "      <th>27710</th>\n",
       "      <td>JOB1362684435397</td>\n",
       "      <td>COMP21</td>\n",
       "      <td>JUNIOR</td>\n",
       "      <td>DOCTORAL</td>\n",
       "      <td>ENGINEERING</td>\n",
       "      <td>OIL</td>\n",
       "      <td>24</td>\n",
       "      <td>3</td>\n",
       "      <td>246</td>\n",
       "    </tr>\n",
       "    <tr>\n",
       "      <th>743326</th>\n",
       "      <td>JOB1362685151013</td>\n",
       "      <td>COMP14</td>\n",
       "      <td>JUNIOR</td>\n",
       "      <td>DOCTORAL</td>\n",
       "      <td>BUSINESS</td>\n",
       "      <td>FINANCE</td>\n",
       "      <td>19</td>\n",
       "      <td>0</td>\n",
       "      <td>236</td>\n",
       "    </tr>\n",
       "    <tr>\n",
       "      <th>787674</th>\n",
       "      <td>JOB1362685195361</td>\n",
       "      <td>COMP43</td>\n",
       "      <td>JUNIOR</td>\n",
       "      <td>DOCTORAL</td>\n",
       "      <td>BUSINESS</td>\n",
       "      <td>FINANCE</td>\n",
       "      <td>18</td>\n",
       "      <td>15</td>\n",
       "      <td>232</td>\n",
       "    </tr>\n",
       "    <tr>\n",
       "      <th>627534</th>\n",
       "      <td>JOB1362685035221</td>\n",
       "      <td>COMP5</td>\n",
       "      <td>JUNIOR</td>\n",
       "      <td>DOCTORAL</td>\n",
       "      <td>ENGINEERING</td>\n",
       "      <td>OIL</td>\n",
       "      <td>24</td>\n",
       "      <td>29</td>\n",
       "      <td>230</td>\n",
       "    </tr>\n",
       "    <tr>\n",
       "      <th>796956</th>\n",
       "      <td>JOB1362685204643</td>\n",
       "      <td>COMP30</td>\n",
       "      <td>JUNIOR</td>\n",
       "      <td>MASTERS</td>\n",
       "      <td>BUSINESS</td>\n",
       "      <td>OIL</td>\n",
       "      <td>24</td>\n",
       "      <td>2</td>\n",
       "      <td>228</td>\n",
       "    </tr>\n",
       "    <tr>\n",
       "      <th>500739</th>\n",
       "      <td>JOB1362684908426</td>\n",
       "      <td>COMP40</td>\n",
       "      <td>JUNIOR</td>\n",
       "      <td>DOCTORAL</td>\n",
       "      <td>ENGINEERING</td>\n",
       "      <td>OIL</td>\n",
       "      <td>21</td>\n",
       "      <td>0</td>\n",
       "      <td>227</td>\n",
       "    </tr>\n",
       "    <tr>\n",
       "      <th>303778</th>\n",
       "      <td>JOB1362684711465</td>\n",
       "      <td>COMP51</td>\n",
       "      <td>JUNIOR</td>\n",
       "      <td>MASTERS</td>\n",
       "      <td>ENGINEERING</td>\n",
       "      <td>WEB</td>\n",
       "      <td>24</td>\n",
       "      <td>2</td>\n",
       "      <td>226</td>\n",
       "    </tr>\n",
       "    <tr>\n",
       "      <th>348354</th>\n",
       "      <td>JOB1362684756041</td>\n",
       "      <td>COMP56</td>\n",
       "      <td>JUNIOR</td>\n",
       "      <td>DOCTORAL</td>\n",
       "      <td>ENGINEERING</td>\n",
       "      <td>OIL</td>\n",
       "      <td>23</td>\n",
       "      <td>25</td>\n",
       "      <td>226</td>\n",
       "    </tr>\n",
       "    <tr>\n",
       "      <th>645555</th>\n",
       "      <td>JOB1362685053242</td>\n",
       "      <td>COMP36</td>\n",
       "      <td>JUNIOR</td>\n",
       "      <td>DOCTORAL</td>\n",
       "      <td>BUSINESS</td>\n",
       "      <td>FINANCE</td>\n",
       "      <td>24</td>\n",
       "      <td>1</td>\n",
       "      <td>225</td>\n",
       "    </tr>\n",
       "    <tr>\n",
       "      <th>855219</th>\n",
       "      <td>JOB1362685262906</td>\n",
       "      <td>COMP13</td>\n",
       "      <td>JUNIOR</td>\n",
       "      <td>MASTERS</td>\n",
       "      <td>ENGINEERING</td>\n",
       "      <td>OIL</td>\n",
       "      <td>22</td>\n",
       "      <td>26</td>\n",
       "      <td>225</td>\n",
       "    </tr>\n",
       "    <tr>\n",
       "      <th>685775</th>\n",
       "      <td>JOB1362685093462</td>\n",
       "      <td>COMP38</td>\n",
       "      <td>JUNIOR</td>\n",
       "      <td>BACHELORS</td>\n",
       "      <td>ENGINEERING</td>\n",
       "      <td>OIL</td>\n",
       "      <td>24</td>\n",
       "      <td>13</td>\n",
       "      <td>225</td>\n",
       "    </tr>\n",
       "    <tr>\n",
       "      <th>1222</th>\n",
       "      <td>JOB1362684408909</td>\n",
       "      <td>COMP40</td>\n",
       "      <td>JUNIOR</td>\n",
       "      <td>MASTERS</td>\n",
       "      <td>COMPSCI</td>\n",
       "      <td>OIL</td>\n",
       "      <td>24</td>\n",
       "      <td>5</td>\n",
       "      <td>225</td>\n",
       "    </tr>\n",
       "    <tr>\n",
       "      <th>31355</th>\n",
       "      <td>JOB1362684439042</td>\n",
       "      <td>COMP45</td>\n",
       "      <td>JUNIOR</td>\n",
       "      <td>DOCTORAL</td>\n",
       "      <td>COMPSCI</td>\n",
       "      <td>FINANCE</td>\n",
       "      <td>24</td>\n",
       "      <td>0</td>\n",
       "      <td>225</td>\n",
       "    </tr>\n",
       "    <tr>\n",
       "      <th>160333</th>\n",
       "      <td>JOB1362684568020</td>\n",
       "      <td>COMP18</td>\n",
       "      <td>JUNIOR</td>\n",
       "      <td>DOCTORAL</td>\n",
       "      <td>BUSINESS</td>\n",
       "      <td>FINANCE</td>\n",
       "      <td>22</td>\n",
       "      <td>3</td>\n",
       "      <td>223</td>\n",
       "    </tr>\n",
       "    <tr>\n",
       "      <th>954368</th>\n",
       "      <td>JOB1362685362055</td>\n",
       "      <td>COMP11</td>\n",
       "      <td>JUNIOR</td>\n",
       "      <td>DOCTORAL</td>\n",
       "      <td>BUSINESS</td>\n",
       "      <td>OIL</td>\n",
       "      <td>24</td>\n",
       "      <td>26</td>\n",
       "      <td>223</td>\n",
       "    </tr>\n",
       "    <tr>\n",
       "      <th>656572</th>\n",
       "      <td>JOB1362685064259</td>\n",
       "      <td>COMP28</td>\n",
       "      <td>JUNIOR</td>\n",
       "      <td>DOCTORAL</td>\n",
       "      <td>BUSINESS</td>\n",
       "      <td>OIL</td>\n",
       "      <td>22</td>\n",
       "      <td>3</td>\n",
       "      <td>222</td>\n",
       "    </tr>\n",
       "    <tr>\n",
       "      <th>214606</th>\n",
       "      <td>JOB1362684622293</td>\n",
       "      <td>COMP47</td>\n",
       "      <td>JUNIOR</td>\n",
       "      <td>MASTERS</td>\n",
       "      <td>BUSINESS</td>\n",
       "      <td>FINANCE</td>\n",
       "      <td>22</td>\n",
       "      <td>4</td>\n",
       "      <td>222</td>\n",
       "    </tr>\n",
       "    <tr>\n",
       "      <th>427593</th>\n",
       "      <td>JOB1362684835280</td>\n",
       "      <td>COMP54</td>\n",
       "      <td>JUNIOR</td>\n",
       "      <td>DOCTORAL</td>\n",
       "      <td>ENGINEERING</td>\n",
       "      <td>FINANCE</td>\n",
       "      <td>23</td>\n",
       "      <td>3</td>\n",
       "      <td>221</td>\n",
       "    </tr>\n",
       "    <tr>\n",
       "      <th>189582</th>\n",
       "      <td>JOB1362684597269</td>\n",
       "      <td>COMP32</td>\n",
       "      <td>JUNIOR</td>\n",
       "      <td>DOCTORAL</td>\n",
       "      <td>BUSINESS</td>\n",
       "      <td>OIL</td>\n",
       "      <td>24</td>\n",
       "      <td>11</td>\n",
       "      <td>221</td>\n",
       "    </tr>\n",
       "  </tbody>\n",
       "</table>\n",
       "</div>"
      ],
      "text/plain": [
       "                   jobId companyId jobType     degree        major industry  \\\n",
       "100042  JOB1362684507729    COMP17  JUNIOR   DOCTORAL     BUSINESS  FINANCE   \n",
       "27710   JOB1362684435397    COMP21  JUNIOR   DOCTORAL  ENGINEERING      OIL   \n",
       "743326  JOB1362685151013    COMP14  JUNIOR   DOCTORAL     BUSINESS  FINANCE   \n",
       "787674  JOB1362685195361    COMP43  JUNIOR   DOCTORAL     BUSINESS  FINANCE   \n",
       "627534  JOB1362685035221     COMP5  JUNIOR   DOCTORAL  ENGINEERING      OIL   \n",
       "796956  JOB1362685204643    COMP30  JUNIOR    MASTERS     BUSINESS      OIL   \n",
       "500739  JOB1362684908426    COMP40  JUNIOR   DOCTORAL  ENGINEERING      OIL   \n",
       "303778  JOB1362684711465    COMP51  JUNIOR    MASTERS  ENGINEERING      WEB   \n",
       "348354  JOB1362684756041    COMP56  JUNIOR   DOCTORAL  ENGINEERING      OIL   \n",
       "645555  JOB1362685053242    COMP36  JUNIOR   DOCTORAL     BUSINESS  FINANCE   \n",
       "855219  JOB1362685262906    COMP13  JUNIOR    MASTERS  ENGINEERING      OIL   \n",
       "685775  JOB1362685093462    COMP38  JUNIOR  BACHELORS  ENGINEERING      OIL   \n",
       "1222    JOB1362684408909    COMP40  JUNIOR    MASTERS      COMPSCI      OIL   \n",
       "31355   JOB1362684439042    COMP45  JUNIOR   DOCTORAL      COMPSCI  FINANCE   \n",
       "160333  JOB1362684568020    COMP18  JUNIOR   DOCTORAL     BUSINESS  FINANCE   \n",
       "954368  JOB1362685362055    COMP11  JUNIOR   DOCTORAL     BUSINESS      OIL   \n",
       "656572  JOB1362685064259    COMP28  JUNIOR   DOCTORAL     BUSINESS      OIL   \n",
       "214606  JOB1362684622293    COMP47  JUNIOR    MASTERS     BUSINESS  FINANCE   \n",
       "427593  JOB1362684835280    COMP54  JUNIOR   DOCTORAL  ENGINEERING  FINANCE   \n",
       "189582  JOB1362684597269    COMP32  JUNIOR   DOCTORAL     BUSINESS      OIL   \n",
       "\n",
       "        yearsExperience  milesFromMetropolis  salary  \n",
       "100042               23                    8     248  \n",
       "27710                24                    3     246  \n",
       "743326               19                    0     236  \n",
       "787674               18                   15     232  \n",
       "627534               24                   29     230  \n",
       "796956               24                    2     228  \n",
       "500739               21                    0     227  \n",
       "303778               24                    2     226  \n",
       "348354               23                   25     226  \n",
       "645555               24                    1     225  \n",
       "855219               22                   26     225  \n",
       "685775               24                   13     225  \n",
       "1222                 24                    5     225  \n",
       "31355                24                    0     225  \n",
       "160333               22                    3     223  \n",
       "954368               24                   26     223  \n",
       "656572               22                    3     222  \n",
       "214606               22                    4     222  \n",
       "427593               23                    3     221  \n",
       "189582               24                   11     221  "
      ]
     },
     "execution_count": 17,
     "metadata": {},
     "output_type": "execute_result"
    }
   ],
   "source": [
    "# Observations above the upper bound\n",
    "feature_df[(feature_df['salary'] > 220.5) & (feature_df['jobType']=='JUNIOR')].sort_values(by='salary', ascending=False)"
   ]
  },
  {
   "cell_type": "markdown",
   "metadata": {},
   "source": [
    "Though those observations jobType is junior, all of them are having either `DOCTORAL` or `MASTERS` degree. Every employee has decent amount of experiance and also they are working in `FINANCE` or `OIL` industry. Generally, employees who are working in those industries tend to get good salaries these values look reasonable. Let's check for other criterias. "
   ]
  },
  {
   "cell_type": "code",
   "execution_count": 18,
   "metadata": {},
   "outputs": [
    {
     "data": {
      "text/plain": [
       "OIL          2368\n",
       "FINANCE      2200\n",
       "WEB          1280\n",
       "HEALTH        631\n",
       "AUTO          325\n",
       "SERVICE       200\n",
       "EDUCATION     113\n",
       "Name: industry, dtype: int64"
      ]
     },
     "execution_count": 18,
     "metadata": {},
     "output_type": "execute_result"
    }
   ],
   "source": [
    "# Industry-wise counts(Number of observations) who are having 220K+ salaries\n",
    "feature_df[feature_df['salary'] > 220.5]['industry'].value_counts()"
   ]
  },
  {
   "cell_type": "markdown",
   "metadata": {},
   "source": [
    "There are 113 observations in the `EDUCATION` industry. Generally, the education industry doesn't pay much until and unless they are in executive-level positions. Let's examine.\n"
   ]
  },
  {
   "cell_type": "code",
   "execution_count": 19,
   "metadata": {},
   "outputs": [
    {
     "data": {
      "text/plain": [
       "CEO               80\n",
       "CTO               17\n",
       "CFO               15\n",
       "VICE_PRESIDENT     1\n",
       "Name: jobType, dtype: int64"
      ]
     },
     "execution_count": 19,
     "metadata": {},
     "output_type": "execute_result"
    }
   ],
   "source": [
    "# Education industry-wise counts(Number of observations) who are having 220K+ salaries\n",
    "feature_df[(feature_df['salary'] > 220.5) & (feature_df['industry']=='EDUCATION')]['jobType'].value_counts()"
   ]
  },
  {
   "cell_type": "markdown",
   "metadata": {},
   "source": [
    "Yes, all observation's `jobType` is an executive role and this is the realistic scenario."
   ]
  },
  {
   "cell_type": "code",
   "execution_count": 20,
   "metadata": {},
   "outputs": [
    {
     "data": {
      "text/plain": [
       "DOCTORAL       2981\n",
       "MASTERS        2134\n",
       "BACHELORS      1440\n",
       "HIGH_SCHOOL     354\n",
       "NONE            208\n",
       "Name: degree, dtype: int64"
      ]
     },
     "execution_count": 20,
     "metadata": {},
     "output_type": "execute_result"
    }
   ],
   "source": [
    "# Degree-wise counts(Number of observations) who are having 220K+ salaries\n",
    "feature_df[feature_df['salary'] > 220.5]['degree'].value_counts()"
   ]
  },
  {
   "cell_type": "markdown",
   "metadata": {},
   "source": [
    "Surprisingly, there are 208 observations that doesn't have any degree (not even high school) are getting paid more than 220K USD. This scenario is interesting. Let's dig more into this."
   ]
  },
  {
   "cell_type": "code",
   "execution_count": 21,
   "metadata": {},
   "outputs": [
    {
     "data": {
      "text/plain": [
       "CEO               124\n",
       "CFO                41\n",
       "CTO                35\n",
       "VICE_PRESIDENT      8\n",
       "Name: jobType, dtype: int64"
      ]
     },
     "execution_count": 21,
     "metadata": {},
     "output_type": "execute_result"
    }
   ],
   "source": [
    "# NO Degree counts(Number of observations) who are having 220K+ salaries\n",
    "feature_df[(feature_df['salary'] > 220.5) & (feature_df['degree']=='NONE')]['jobType'].value_counts()"
   ]
  },
  {
   "cell_type": "markdown",
   "metadata": {},
   "source": [
    "Hmmm! All observations are in executive roles and let's see what kind of industries they are into."
   ]
  },
  {
   "cell_type": "code",
   "execution_count": 22,
   "metadata": {},
   "outputs": [
    {
     "data": {
      "text/plain": [
       "OIL        82\n",
       "FINANCE    81\n",
       "WEB        29\n",
       "HEALTH     10\n",
       "AUTO        5\n",
       "SERVICE     1\n",
       "Name: industry, dtype: int64"
      ]
     },
     "execution_count": 22,
     "metadata": {},
     "output_type": "execute_result"
    }
   ],
   "source": [
    "# NO Degree counts(Number of observations) with industries who are having 220K+ salaries\n",
    "feature_df[(feature_df['salary'] > 220.5) & (feature_df['degree']=='NONE')]['industry'].value_counts()"
   ]
  },
  {
   "cell_type": "markdown",
   "metadata": {},
   "source": [
    "Fair enough. Most of the observations are in `OIL, FINANCE` and `WEB` industries. These observations make sense to me.<br>\n",
    "\n",
    "Let's check other variable's relation with the target variable.\n",
    "\n",
    "##### What is the relationship between the target feature and other independent variables?"
   ]
  },
  {
   "cell_type": "code",
   "execution_count": 23,
   "metadata": {},
   "outputs": [],
   "source": [
    "# function to draw mean plot and box plot or boxen plot \n",
    "def plot_box_mean(df, col):\n",
    "    plt.figure(figsize = (14, 8))\n",
    "    plt.subplot(1, 2, 1)\n",
    "    if df[col].dtype == 'int64':\n",
    "        df[col].value_counts().sort_index().plot()\n",
    "    else:\n",
    "        mean = df.groupby(col)['salary'].mean()\n",
    "        df[col] = df[col].astype('category').copy()\n",
    "        levels = mean.sort_values().index.tolist()\n",
    "        df[col].cat.reorder_categories(levels, inplace=True)\n",
    "        df[col].value_counts().plot()\n",
    "    plt.xticks(rotation=30)\n",
    "    plt.xlabel(col)\n",
    "    plt.ylabel('Counts')\n",
    "    plt.subplot(1, 2, 2)\n",
    "\n",
    "    if col == 'companyId':\n",
    "        sns.boxplot(x=col, y='salary', data=df)\n",
    "        plt.xticks(rotation=90)\n",
    "    elif df[col].dtype == 'category':\n",
    "        sns.boxenplot(x = col, y = 'salary', data=df)\n",
    "        plt.xticks(rotation=30)\n",
    "    plt.ylabel('Salaries')\n",
    "    plt.show()"
   ]
  },
  {
   "cell_type": "code",
   "execution_count": 24,
   "metadata": {},
   "outputs": [
    {
     "data": {
      "image/png": "[encoded data removed]",
      "text/plain": [
       "<Figure size 1008x576 with 2 Axes>"
      ]
     },
     "metadata": {},
     "output_type": "display_data"
    }
   ],
   "source": [
    "# pLot companyID and salary\n",
    "plot_box_mean(feature_df, 'companyId')"
   ]
  },
  {
   "cell_type": "markdown",
   "metadata": {},
   "source": [
    "As per the data description, each company id represents a company. When we examine the **Company Id** feature, it has 63 unique observations. When we look at distributions of this feature, the mean salary for each company  is the same. Also, the number of observations for each company has same values; all the data is uniformly distributed and did not give more information."
   ]
  },
  {
   "cell_type": "code",
   "execution_count": 25,
   "metadata": {},
   "outputs": [
    {
     "data": {
      "image/png": "[encoded data removed]",
      "text/plain": [
       "<Figure size 1008x576 with 2 Axes>"
      ]
     },
     "metadata": {},
     "output_type": "display_data"
    }
   ],
   "source": [
    "# plot the relationship between industry and salary\n",
    "plot_box_mean(feature_df, 'industry')\n"
   ]
  },
  {
   "cell_type": "markdown",
   "metadata": {},
   "source": [
    "***From the plots, we can conclude that there is a positive linear correlation between industry and salary features.***"
   ]
  },
  {
   "cell_type": "code",
   "execution_count": 26,
   "metadata": {},
   "outputs": [
    {
     "data": {
      "image/png": "[encoded data removed]",
      "text/plain": [
       "<Figure size 1008x576 with 2 Axes>"
      ]
     },
     "metadata": {},
     "output_type": "display_data"
    }
   ],
   "source": [
    "# plot the relationship between job type and salary\n",
    "plot_box_mean(feature_df, 'jobType')"
   ]
  },
  {
   "cell_type": "markdown",
   "metadata": {},
   "source": [
    "***From the plots we can conclude that there is a positive linear correlation between job type and salary features. This looks realistic and makes sense as generally janitors get paid much lesser than CEOs.***"
   ]
  },
  {
   "cell_type": "code",
   "execution_count": 27,
   "metadata": {},
   "outputs": [
    {
     "data": {
      "image/png": "[encoded data removed]",
      "text/plain": [
       "<Figure size 1008x576 with 2 Axes>"
      ]
     },
     "metadata": {},
     "output_type": "display_data"
    }
   ],
   "source": [
    "# plot the relationship between major and salary\n",
    "plot_box_mean(feature_df, 'major')"
   ]
  },
  {
   "cell_type": "markdown",
   "metadata": {},
   "source": [
    "***From the plots we can conclude that there is a positive linear correlation between major and salary features. Certainly, engineers are well paid than the people who don't have a major degree.***"
   ]
  },
  {
   "cell_type": "code",
   "execution_count": 28,
   "metadata": {},
   "outputs": [
    {
     "data": {
      "image/png": "[encoded data removed]",
      "text/plain": [
       "<Figure size 1008x576 with 2 Axes>"
      ]
     },
     "metadata": {},
     "output_type": "display_data"
    }
   ],
   "source": [
    "# plot the relationship between degree and salary\n",
    "plot_box_mean(feature_df, 'degree')"
   ]
  },
  {
   "cell_type": "markdown",
   "metadata": {},
   "source": [
    "***From the plots we can conclude that there is a positive linear correlation between degree and salary features. For apparent reasons, Ph.D. scholars get more pay than no degree holders.***"
   ]
  },
  {
   "cell_type": "code",
   "execution_count": 29,
   "metadata": {},
   "outputs": [
    {
     "data": {
      "text/plain": [
       "<seaborn.axisgrid.FacetGrid at 0x7f95dc202c88>"
      ]
     },
     "execution_count": 29,
     "metadata": {},
     "output_type": "execute_result"
    },
    {
     "data": {
      "image/png": "[encoded data removed]",
      "text/plain": [
       "<Figure size 360x360 with 1 Axes>"
      ]
     },
     "metadata": {},
     "output_type": "display_data"
    }
   ],
   "source": [
    "# plot the relationship between years experience and salary\n",
    "sns.lmplot(x='yearsExperience', y='salary', data = feature_df)"
   ]
  },
  {
   "cell_type": "markdown",
   "metadata": {},
   "source": [
    "***The `lm plot` shows that there is a clear linear relationship between salary and years of experience. If Years of experience increases, salary also increases.***"
   ]
  },
  {
   "cell_type": "code",
   "execution_count": 30,
   "metadata": {},
   "outputs": [
    {
     "data": {
      "text/plain": [
       "<seaborn.axisgrid.FacetGrid at 0x7f959021aa90>"
      ]
     },
     "execution_count": 30,
     "metadata": {},
     "output_type": "execute_result"
    },
    {
     "data": {
      "image/png": "[encoded data removed]",
      "text/plain": [
       "<Figure size 360x360 with 1 Axes>"
      ]
     },
     "metadata": {},
     "output_type": "display_data"
    }
   ],
   "source": [
    "# plot the relationship between miles from metro and salary\n",
    "sns.lmplot(x='milesFromMetropolis', y='salary', data = feature_df)"
   ]
  },
  {
   "cell_type": "markdown",
   "metadata": {},
   "source": [
    "***The `lm plot` shows that there is a clear linear relationship between salary and miles from metropolis. The far from the metro, the less pay we get.***"
   ]
  },
  {
   "cell_type": "markdown",
   "metadata": {},
   "source": [
    "##### Final data clean and split variables"
   ]
  },
  {
   "cell_type": "code",
   "execution_count": 31,
   "metadata": {},
   "outputs": [],
   "source": [
    "# lets get rid off JobID and observations below the lower bound\n",
    "\n",
    "feature_df = feature_df.drop('jobId', axis=1)\n",
    "test_df = test_df.drop('jobId', axis=1)\n",
    "feature_df = feature_df[feature_df['salary'] > 8.5]\n"
   ]
  },
  {
   "cell_type": "code",
   "execution_count": 32,
   "metadata": {},
   "outputs": [
    {
     "data": {
      "text/plain": [
       "((999995, 7), (999995,))"
      ]
     },
     "execution_count": 32,
     "metadata": {},
     "output_type": "execute_result"
    }
   ],
   "source": [
    "# lets split the data into dependent variables and independent variables\n",
    "\n",
    "features = feature_df.drop('salary', axis=1)\n",
    "target = feature_df['salary']\n",
    "\n",
    "features.shape, target.shape"
   ]
  },
  {
   "cell_type": "code",
   "execution_count": 33,
   "metadata": {},
   "outputs": [
    {
     "data": {
      "text/plain": [
       "51846"
      ]
     },
     "execution_count": 33,
     "metadata": {},
     "output_type": "execute_result"
    }
   ],
   "source": [
    "# Garbage collection to freeup RAM space\n",
    "import gc\n",
    "gc.collect()"
   ]
  },
  {
   "cell_type": "code",
   "execution_count": 34,
   "metadata": {},
   "outputs": [
    {
     "data": {
      "text/plain": [
       "(999995, 94)"
      ]
     },
     "execution_count": 34,
     "metadata": {},
     "output_type": "execute_result"
    }
   ],
   "source": [
    "# Create dummie features\n",
    "features = pd.get_dummies(features)\n",
    "features.shape"
   ]
  },
  {
   "cell_type": "markdown",
   "metadata": {},
   "source": [
    "## Developing Model"
   ]
  },
  {
   "cell_type": "markdown",
   "metadata": {},
   "source": [
    "We have cleaned, preprocessed and features separated dataset. Let's start building the model.<br>\n",
    "<br>\n",
    "### Base Line Model\n",
    "As part of creating a baseline model, I have chosen `Random Forest Regressor` as this is the gateway algorithm for any machine learning model. Since it is very less prone to overfit and has very less assumption when compared with `Linear Regression.`<br>\n",
    "<br>\n",
    "Before building models, let split the data into train and validation set."
   ]
  },
  {
   "cell_type": "code",
   "execution_count": 35,
   "metadata": {},
   "outputs": [],
   "source": [
    "# split the data into train and validation sets\n",
    "feature_train, feature_valid, target_train, target_valid = train_test_split(features, target, test_size=0.3, random_state=2019, shuffle=True)"
   ]
  },
  {
   "cell_type": "code",
   "execution_count": 36,
   "metadata": {},
   "outputs": [
    {
     "data": {
      "text/plain": [
       "((699996, 94), (299999, 94), (699996,), (299999,))"
      ]
     },
     "execution_count": 36,
     "metadata": {},
     "output_type": "execute_result"
    }
   ],
   "source": [
    "# validating shapes of train and validation sets\n",
    "feature_train.shape, feature_valid.shape, target_train.shape, target_valid.shape"
   ]
  },
  {
   "cell_type": "code",
   "execution_count": 37,
   "metadata": {
    "scrolled": true
   },
   "outputs": [
    {
     "name": "stderr",
     "output_type": "stream",
     "text": [
      "[Parallel(n_jobs=-1)]: Using backend ThreadingBackend with 8 concurrent workers.\n"
     ]
    },
    {
     "name": "stdout",
     "output_type": "stream",
     "text": [
      "building tree 1 of 120\n",
      "building tree 2 of 120\n",
      "building tree 3 of 120\n",
      "building tree 4 of 120\n",
      "building tree 5 of 120building tree 6 of 120\n",
      "\n",
      "building tree 7 of 120\n",
      "building tree 8 of 120\n",
      "building tree 9 of 120\n",
      "building tree 10 of 120\n",
      "building tree 11 of 120\n",
      "building tree 12 of 120\n",
      "building tree 13 of 120\n"
     ]
    },
    {
     "name": "stderr",
     "output_type": "stream",
     "text": [
      "[Parallel(n_jobs=-1)]: Done   2 tasks      | elapsed:    6.4s\n"
     ]
    },
    {
     "name": "stdout",
     "output_type": "stream",
     "text": [
      "building tree 14 of 120\n",
      "building tree 15 of 120\n",
      "building tree 16 of 120\n",
      "building tree 17 of 120\n",
      "building tree 18 of 120\n",
      "building tree 19 of 120\n",
      "building tree 20 of 120\n",
      "building tree 21 of 120\n",
      "building tree 22 of 120\n",
      "building tree 23 of 120\n",
      "building tree 24 of 120\n",
      "building tree 25 of 120\n",
      "building tree 26 of 120\n",
      "building tree 27 of 120\n",
      "building tree 28 of 120building tree 29 of 120\n",
      "\n",
      "building tree 30 of 120\n",
      "building tree 31 of 120\n",
      "building tree 32 of 120\n",
      "building tree 33 of 120\n",
      "building tree 34 of 120\n",
      "building tree 35 of 120\n",
      "building tree 36 of 120\n",
      "building tree 37 of 120\n",
      "building tree 38 of 120\n",
      "building tree 39 of 120\n",
      "building tree 40 of 120\n",
      "building tree 41 of 120\n",
      "building tree 42 of 120\n",
      "building tree 43 of 120\n",
      "building tree 44 of 120\n",
      "building tree 45 of 120\n",
      "building tree 46 of 120\n",
      "building tree 47 of 120\n",
      "building tree 48 of 120\n",
      "building tree 49 of 120\n",
      "building tree 50 of 120\n",
      "building tree 51 of 120\n",
      "building tree 52 of 120\n",
      "building tree 53 of 120\n",
      "building tree 54 of 120\n",
      "building tree 55 of 120\n",
      "building tree 56 of 120\n",
      "building tree 57 of 120\n",
      "building tree 58 of 120\n",
      "building tree 59 of 120\n",
      "building tree 60 of 120\n",
      "building tree 61 of 120\n",
      "building tree 62 of 120\n",
      "building tree 63 of 120\n"
     ]
    },
    {
     "name": "stderr",
     "output_type": "stream",
     "text": [
      "[Parallel(n_jobs=-1)]: Done  56 tasks      | elapsed:   46.7s\n"
     ]
    },
    {
     "name": "stdout",
     "output_type": "stream",
     "text": [
      "building tree 64 of 120\n",
      "building tree 65 of 120\n",
      "building tree 66 of 120\n",
      "building tree 67 of 120\n",
      "building tree 68 of 120\n",
      "building tree 69 of 120\n",
      "building tree 70 of 120\n",
      "building tree 71 of 120\n",
      "building tree 72 of 120\n",
      "building tree 73 of 120\n",
      "building tree 74 of 120\n",
      "building tree 75 of 120\n",
      "building tree 76 of 120\n",
      "building tree 77 of 120\n",
      "building tree 78 of 120\n",
      "building tree 79 of 120\n",
      "building tree 80 of 120\n",
      "building tree 81 of 120\n",
      "building tree 82 of 120\n",
      "building tree 83 of 120\n",
      "building tree 84 of 120\n",
      "building tree 85 of 120\n",
      "building tree 86 of 120\n",
      "building tree 87 of 120\n",
      "building tree 88 of 120\n",
      "building tree 89 of 120\n",
      "building tree 90 of 120\n",
      "building tree 91 of 120\n",
      "building tree 92 of 120\n",
      "building tree 93 of 120\n",
      "building tree 94 of 120\n",
      "building tree 95 of 120\n",
      "building tree 96 of 120\n",
      "building tree 97 of 120\n",
      "building tree 98 of 120\n",
      "building tree 99 of 120\n",
      "building tree 100 of 120\n",
      "building tree 101 of 120\n",
      "building tree 102 of 120\n",
      "building tree 103 of 120\n",
      "building tree 104 of 120\n",
      "building tree 105 of 120\n",
      "building tree 106 of 120\n",
      "building tree 107 of 120\n",
      "building tree 108 of 120\n",
      "building tree 109 of 120\n",
      "building tree 110 of 120\n",
      "building tree 111 of 120\n",
      "building tree 112 of 120\n",
      "building tree 113 of 120\n",
      "building tree 114 of 120\n",
      "building tree 115 of 120\n",
      "building tree 116 of 120\n",
      "building tree 117 of 120\n",
      "building tree 118 of 120\n",
      "building tree 119 of 120\n",
      "building tree 120 of 120\n"
     ]
    },
    {
     "name": "stderr",
     "output_type": "stream",
     "text": [
      "[Parallel(n_jobs=-1)]: Done 120 out of 120 | elapsed:  1.7min finished\n",
      "[Parallel(n_jobs=8)]: Using backend ThreadingBackend with 8 concurrent workers.\n",
      "[Parallel(n_jobs=8)]: Done   2 tasks      | elapsed:    0.2s\n",
      "[Parallel(n_jobs=8)]: Done  56 tasks      | elapsed:    1.4s\n",
      "[Parallel(n_jobs=8)]: Done 120 out of 120 | elapsed:    2.8s finished\n"
     ]
    },
    {
     "data": {
      "text/plain": [
       "0.7555008131626882"
      ]
     },
     "execution_count": 37,
     "metadata": {},
     "output_type": "execute_result"
    }
   ],
   "source": [
    "# building baseline model with random forest\n",
    "rf = RandomForestRegressor(n_jobs=-1, n_estimators=120, verbose=5, max_depth=25, min_samples_split=60,max_features=30)\n",
    "rf.fit(feature_train, target_train)\n",
    "rf.score(feature_valid, target_valid)\n"
   ]
  },
  {
   "cell_type": "code",
   "execution_count": 38,
   "metadata": {},
   "outputs": [
    {
     "name": "stderr",
     "output_type": "stream",
     "text": [
      "[Parallel(n_jobs=8)]: Using backend ThreadingBackend with 8 concurrent workers.\n",
      "[Parallel(n_jobs=8)]: Done   2 tasks      | elapsed:    0.2s\n",
      "[Parallel(n_jobs=8)]: Done  56 tasks      | elapsed:    1.3s\n",
      "[Parallel(n_jobs=8)]: Done 120 out of 120 | elapsed:    2.7s finished\n"
     ]
    },
    {
     "data": {
      "text/plain": [
       "366.83577415318865"
      ]
     },
     "execution_count": 38,
     "metadata": {},
     "output_type": "execute_result"
    }
   ],
   "source": [
    "rf_preds = rf.predict(feature_valid)\n",
    "mean_squared_error(rf_preds, target_valid)"
   ]
  },
  {
   "cell_type": "markdown",
   "metadata": {},
   "source": [
    "As discussed in evaluation metric section, we will look for MSE. Our baseline model is giving the mean squared error as 366.90 and the model prediction accuracy is 76%. \n",
    "\n",
    "##### Can we improve this score and prediction accuracy?\n",
    "\n",
    "Let's try for the below models and compare with baseline model if they can help us to find better MSE value and accuracy.\n",
    "- Ridge\n",
    "- Linear Regression\n",
    "- Second-order Polynomial features with Linear Regression\n",
    "- Gradient Descent\n",
    "- LightGBM"
   ]
  },
  {
   "cell_type": "code",
   "execution_count": 39,
   "metadata": {},
   "outputs": [
    {
     "data": {
      "text/plain": [
       "0.7432450892362962"
      ]
     },
     "execution_count": 39,
     "metadata": {},
     "output_type": "execute_result"
    }
   ],
   "source": [
    "# Ridge Regression\n",
    "rg = Ridge()\n",
    "rg.fit(feature_train, target_train)\n",
    "rg.score(feature_valid, target_valid)"
   ]
  },
  {
   "cell_type": "code",
   "execution_count": 40,
   "metadata": {},
   "outputs": [
    {
     "data": {
      "text/plain": [
       "385.2237206838137"
      ]
     },
     "execution_count": 40,
     "metadata": {},
     "output_type": "execute_result"
    }
   ],
   "source": [
    "rg_preds = rg.predict(feature_valid)\n",
    "mean_squared_error(rg_preds, target_valid)"
   ]
  },
  {
   "cell_type": "markdown",
   "metadata": {},
   "source": [
    "`Ridge` model mean squared error is higher than the baseline model and prediction power is lesser than the baseline model.\n"
   ]
  },
  {
   "cell_type": "code",
   "execution_count": 41,
   "metadata": {},
   "outputs": [
    {
     "data": {
      "text/plain": [
       "0.7432450834238199"
      ]
     },
     "execution_count": 41,
     "metadata": {},
     "output_type": "execute_result"
    }
   ],
   "source": [
    "# Linear regression\n",
    "lr = LinearRegression()\n",
    "lr.fit(feature_train, target_train)\n",
    "lr.score(feature_valid, target_valid)"
   ]
  },
  {
   "cell_type": "code",
   "execution_count": 42,
   "metadata": {},
   "outputs": [
    {
     "data": {
      "text/plain": [
       "385.22372940459627"
      ]
     },
     "execution_count": 42,
     "metadata": {},
     "output_type": "execute_result"
    }
   ],
   "source": [
    "lr_preds = lr.predict(feature_valid)\n",
    "mean_squared_error(lr_preds, target_valid)"
   ]
  },
  {
   "cell_type": "markdown",
   "metadata": {},
   "source": [
    "`Linear Regression` model mean squared error is higher than the baseline model and prediction power is lesser than the baseline model.\n"
   ]
  },
  {
   "cell_type": "code",
   "execution_count": 43,
   "metadata": {},
   "outputs": [],
   "source": [
    "# applying second order polynomial\n",
    "p = PolynomialFeatures()\n",
    "feature_train_p = p.fit_transform(feature_train)\n",
    "feature_valid_p = p.fit_transform(feature_valid)"
   ]
  },
  {
   "cell_type": "code",
   "execution_count": 44,
   "metadata": {},
   "outputs": [
    {
     "data": {
      "text/plain": [
       "0.7628766222014541"
      ]
     },
     "execution_count": 44,
     "metadata": {},
     "output_type": "execute_result"
    }
   ],
   "source": [
    "# Applying Linear Regression on polynomial features\n",
    "lrp = LinearRegression()\n",
    "lrp.fit(feature_train_p, target_train)\n",
    "lrp.score(feature_valid_p, target_valid)"
   ]
  },
  {
   "cell_type": "code",
   "execution_count": 45,
   "metadata": {},
   "outputs": [
    {
     "data": {
      "text/plain": [
       "355.7694362494062"
      ]
     },
     "execution_count": 45,
     "metadata": {},
     "output_type": "execute_result"
    }
   ],
   "source": [
    "lrp_preds = lrp.predict(feature_valid_p)\n",
    "mean_squared_error(lrp_preds, target_valid)"
   ]
  },
  {
   "cell_type": "markdown",
   "metadata": {},
   "source": [
    "Cool! We got better mean squared error which is lesser than the baseline model and better prediction power than the baseline model. We made some progress here and let's see if any other model can give us better results than this.\n"
   ]
  },
  {
   "cell_type": "code",
   "execution_count": 46,
   "metadata": {
    "scrolled": true
   },
   "outputs": [
    {
     "name": "stdout",
     "output_type": "stream",
     "text": [
      "      Iter       Train Loss   Remaining Time \n",
      "         1        1350.7216           12.15m\n",
      "         2        1229.2484           12.05m\n",
      "         3        1128.8717           11.97m\n",
      "         4        1045.3237           11.84m\n",
      "         5         973.7605           11.77m\n",
      "         6         913.7418           11.61m\n",
      "         7         861.6513           11.48m\n",
      "         8         813.8119           11.44m\n",
      "         9         772.1818           11.38m\n",
      "        10         735.4810           11.33m\n",
      "        11         703.8882           11.29m\n",
      "        12         672.8977           11.11m\n",
      "        13         646.2392           11.04m\n",
      "        14         621.6976           10.88m\n",
      "        15         599.8408           10.79m\n",
      "        16         580.2617           10.74m\n",
      "        17         563.2002           10.72m\n",
      "        18         547.5966           10.66m\n",
      "        19         532.8465           10.58m\n",
      "        20         520.0044           10.69m\n",
      "        21         508.0239           10.67m\n",
      "        22         497.5598           10.59m\n",
      "        23         486.8426           10.49m\n",
      "        24         478.2139           10.45m\n",
      "        25         469.7430           10.40m\n",
      "        26         460.7839           10.33m\n",
      "        27         453.9955           10.27m\n",
      "        28         447.3589           10.21m\n",
      "        29         441.7337           10.13m\n",
      "        30         435.8512           10.01m\n",
      "        31         430.7734            9.90m\n",
      "        32         425.4666            9.79m\n",
      "        33         420.6085            9.67m\n",
      "        34         416.3879            9.57m\n",
      "        35         412.5686            9.50m\n",
      "        36         409.3661            9.40m\n",
      "        37         406.0548            9.29m\n",
      "        38         402.3583            9.20m\n",
      "        39         399.7929            9.10m\n",
      "        40         397.2489            9.02m\n",
      "        41         395.0238            8.93m\n",
      "        42         392.2417            8.84m\n",
      "        43         390.3748            8.76m\n",
      "        44         388.7323            8.69m\n",
      "        45         386.4800            8.60m\n",
      "        46         384.6851            8.52m\n",
      "        47         383.1877            8.45m\n",
      "        48         381.8620            8.37m\n",
      "        49         380.4250            8.28m\n",
      "        50         378.9545            8.19m\n",
      "        51         377.8711            8.09m\n",
      "        52         376.6116            8.01m\n",
      "        53         375.7526            7.96m\n",
      "        54         374.5945            7.86m\n",
      "        55         373.7246            7.77m\n",
      "        56         372.9239            7.67m\n",
      "        57         372.0506            7.58m\n",
      "        58         371.3668            7.51m\n",
      "        59         370.5447            7.42m\n",
      "        60         369.7918            7.32m\n",
      "        61         369.2629            7.22m\n",
      "        62         368.4882            7.13m\n",
      "        63         367.9793            7.05m\n",
      "        64         367.4628            6.96m\n",
      "        65         366.9152            6.87m\n",
      "        66         366.3534            6.78m\n",
      "        67         365.9754            6.69m\n",
      "        68         365.5741            6.62m\n",
      "        69         365.1715            6.54m\n",
      "        70         364.8358            6.46m\n",
      "        71         364.4654            6.37m\n",
      "        72         364.1156            6.29m\n",
      "        73         363.7194            6.19m\n",
      "        74         363.4458            6.11m\n",
      "        75         363.1018            6.02m\n",
      "        76         362.8613            5.95m\n",
      "        77         362.4474            5.86m\n",
      "        78         361.9807            5.76m\n",
      "        79         361.5631            5.68m\n",
      "        80         361.3468            5.60m\n",
      "        81         361.1560            5.52m\n",
      "        82         360.9850            5.43m\n",
      "        83         360.7747            5.34m\n",
      "        84         360.2492            5.25m\n",
      "        85         360.0239            5.16m\n",
      "        86         359.7963            5.08m\n",
      "        87         359.6605            5.00m\n",
      "        88         359.5482            4.92m\n",
      "        89         359.3632            4.83m\n",
      "        90         359.0281            4.75m\n",
      "        91         358.7998            4.65m\n",
      "        92         358.5882            4.57m\n",
      "        93         358.4857            4.49m\n",
      "        94         358.2936            4.41m\n",
      "        95         358.0646            4.32m\n",
      "        96         357.9537            4.24m\n",
      "        97         357.8501            4.16m\n",
      "        98         357.7795            4.08m\n",
      "        99         357.5961            4.00m\n",
      "       100         357.4564            3.91m\n",
      "       101         357.3787            3.83m\n",
      "       102         357.1928            3.74m\n",
      "       103         357.1260            3.66m\n",
      "       104         356.9813            3.58m\n",
      "       105         356.8525            3.50m\n",
      "       106         356.7410            3.42m\n",
      "       107         356.6799            3.34m\n",
      "       108         356.5631            3.26m\n",
      "       109         356.5099            3.17m\n",
      "       110         356.4399            3.10m\n",
      "       111         356.3865            3.02m\n",
      "       112         356.2508            2.93m\n",
      "       113         356.0982            2.85m\n",
      "       114         356.0535            2.78m\n",
      "       115         356.0083            2.69m\n",
      "       116         355.8913            2.61m\n",
      "       117         355.8551            2.53m\n",
      "       118         355.7647            2.46m\n",
      "       119         355.6117            2.37m\n",
      "       120         355.5075            2.30m\n",
      "       121         355.4711            2.22m\n",
      "       122         355.3683            2.14m\n",
      "       123         355.2880            2.06m\n",
      "       124         355.2459            1.99m\n",
      "       125         355.1591            1.91m\n",
      "       126         355.0956            1.83m\n",
      "       127         355.0502            1.75m\n",
      "       128         355.0221            1.67m\n",
      "       129         354.9508            1.60m\n",
      "       130         354.9012            1.52m\n",
      "       131         354.8767            1.45m\n",
      "       132         354.8080            1.37m\n",
      "       133         354.7527            1.29m\n",
      "       134         354.6871            1.22m\n",
      "       135         354.6400            1.14m\n",
      "       136         354.6105            1.06m\n",
      "       137         354.5197           59.04s\n",
      "       138         354.4963           54.46s\n",
      "       139         354.4689           49.86s\n",
      "       140         354.4321           45.33s\n",
      "       141         354.3965           40.75s\n",
      "       142         354.3139           36.19s\n",
      "       143         354.2647           31.66s\n",
      "       144         354.2351           27.11s\n",
      "       145         354.1869           22.56s\n",
      "       146         354.1559           18.04s\n",
      "       147         354.0999           13.53s\n",
      "       148         354.0631            9.03s\n",
      "       149         354.0163            4.51s\n",
      "       150         353.9941            0.00s\n"
     ]
    },
    {
     "data": {
      "text/plain": [
       "0.7615725146586293"
      ]
     },
     "execution_count": 46,
     "metadata": {},
     "output_type": "execute_result"
    }
   ],
   "source": [
    "#  Applying gradient descent algorithm\n",
    "gd = GradientBoostingRegressor(n_estimators=150, max_depth=5, loss='ls', verbose=5)\n",
    "gd.fit(feature_train, target_train)\n",
    "gd.score(feature_valid, target_valid)"
   ]
  },
  {
   "cell_type": "code",
   "execution_count": 47,
   "metadata": {},
   "outputs": [
    {
     "data": {
      "text/plain": [
       "357.7260615709025"
      ]
     },
     "execution_count": 47,
     "metadata": {},
     "output_type": "execute_result"
    }
   ],
   "source": [
    "gd_preds = gd.predict(feature_valid)\n",
    "mean_squared_error(gd_preds, target_valid)"
   ]
  },
  {
   "cell_type": "markdown",
   "metadata": {},
   "source": [
    "`Gradient Descent Boost` algorithm gave better result than the baseline model but not better than polynomial featured regression values."
   ]
  },
  {
   "cell_type": "code",
   "execution_count": 48,
   "metadata": {
    "scrolled": true
   },
   "outputs": [
    {
     "name": "stdout",
     "output_type": "stream",
     "text": [
      "[1]\tvalid_0's l2: 1372.28\tvalid_0's l1: 29.6687\n",
      "Training until validation scores don't improve for 50 rounds.\n",
      "[2]\tvalid_0's l2: 1244.54\tvalid_0's l1: 28.2276\n",
      "[3]\tvalid_0's l2: 1153.81\tvalid_0's l1: 27.2\n",
      "[4]\tvalid_0's l2: 1055.71\tvalid_0's l1: 26.012\n",
      "[5]\tvalid_0's l2: 960.356\tvalid_0's l1: 24.8004\n",
      "[6]\tvalid_0's l2: 894.034\tvalid_0's l1: 23.9304\n",
      "[7]\tvalid_0's l2: 826.297\tvalid_0's l1: 23.0158\n",
      "[8]\tvalid_0's l2: 778.765\tvalid_0's l1: 22.3492\n",
      "[9]\tvalid_0's l2: 727.27\tvalid_0's l1: 21.605\n",
      "[10]\tvalid_0's l2: 686.343\tvalid_0's l1: 21.0007\n",
      "[11]\tvalid_0's l2: 652.654\tvalid_0's l1: 20.4974\n",
      "[12]\tvalid_0's l2: 617.041\tvalid_0's l1: 19.9424\n",
      "[13]\tvalid_0's l2: 588.842\tvalid_0's l1: 19.4877\n",
      "[14]\tvalid_0's l2: 562.616\tvalid_0's l1: 19.0583\n",
      "[15]\tvalid_0's l2: 540.943\tvalid_0's l1: 18.6957\n",
      "[16]\tvalid_0's l2: 522.871\tvalid_0's l1: 18.3953\n",
      "[17]\tvalid_0's l2: 506.776\tvalid_0's l1: 18.1144\n",
      "[18]\tvalid_0's l2: 492.578\tvalid_0's l1: 17.8661\n",
      "[19]\tvalid_0's l2: 479.422\tvalid_0's l1: 17.631\n",
      "[20]\tvalid_0's l2: 468.019\tvalid_0's l1: 17.4233\n",
      "[21]\tvalid_0's l2: 457.338\tvalid_0's l1: 17.2295\n",
      "[22]\tvalid_0's l2: 449.308\tvalid_0's l1: 17.0812\n",
      "[23]\tvalid_0's l2: 441.13\tvalid_0's l1: 16.9308\n",
      "[24]\tvalid_0's l2: 433.474\tvalid_0's l1: 16.7915\n",
      "[25]\tvalid_0's l2: 426.992\tvalid_0's l1: 16.6699\n",
      "[26]\tvalid_0's l2: 421.591\tvalid_0's l1: 16.5708\n",
      "[27]\tvalid_0's l2: 416.744\tvalid_0's l1: 16.4793\n",
      "[28]\tvalid_0's l2: 411.207\tvalid_0's l1: 16.3725\n",
      "[29]\tvalid_0's l2: 406.287\tvalid_0's l1: 16.2791\n",
      "[30]\tvalid_0's l2: 402.132\tvalid_0's l1: 16.1985\n",
      "[31]\tvalid_0's l2: 399.058\tvalid_0's l1: 16.1379\n",
      "[32]\tvalid_0's l2: 395.585\tvalid_0's l1: 16.0703\n",
      "[33]\tvalid_0's l2: 392.637\tvalid_0's l1: 16.0144\n",
      "[34]\tvalid_0's l2: 389.901\tvalid_0's l1: 15.9601\n",
      "[35]\tvalid_0's l2: 387.252\tvalid_0's l1: 15.9092\n",
      "[36]\tvalid_0's l2: 385.01\tvalid_0's l1: 15.8641\n",
      "[37]\tvalid_0's l2: 382.851\tvalid_0's l1: 15.8233\n",
      "[38]\tvalid_0's l2: 381.151\tvalid_0's l1: 15.7899\n",
      "[39]\tvalid_0's l2: 378.988\tvalid_0's l1: 15.7516\n",
      "[40]\tvalid_0's l2: 377.19\tvalid_0's l1: 15.7188\n",
      "[41]\tvalid_0's l2: 375.758\tvalid_0's l1: 15.6905\n",
      "[42]\tvalid_0's l2: 374.411\tvalid_0's l1: 15.6649\n",
      "[43]\tvalid_0's l2: 373.341\tvalid_0's l1: 15.6441\n",
      "[44]\tvalid_0's l2: 372.445\tvalid_0's l1: 15.6268\n",
      "[45]\tvalid_0's l2: 371.53\tvalid_0's l1: 15.6089\n",
      "[46]\tvalid_0's l2: 370.442\tvalid_0's l1: 15.5893\n",
      "[47]\tvalid_0's l2: 369.624\tvalid_0's l1: 15.5745\n",
      "[48]\tvalid_0's l2: 368.905\tvalid_0's l1: 15.5605\n",
      "[49]\tvalid_0's l2: 367.91\tvalid_0's l1: 15.5426\n",
      "[50]\tvalid_0's l2: 367.182\tvalid_0's l1: 15.5292\n",
      "[51]\tvalid_0's l2: 366.52\tvalid_0's l1: 15.5169\n",
      "[52]\tvalid_0's l2: 365.988\tvalid_0's l1: 15.5073\n",
      "[53]\tvalid_0's l2: 365.506\tvalid_0's l1: 15.4984\n",
      "[54]\tvalid_0's l2: 364.845\tvalid_0's l1: 15.4878\n",
      "[55]\tvalid_0's l2: 364.284\tvalid_0's l1: 15.4782\n",
      "[56]\tvalid_0's l2: 363.893\tvalid_0's l1: 15.4714\n",
      "[57]\tvalid_0's l2: 363.354\tvalid_0's l1: 15.462\n",
      "[58]\tvalid_0's l2: 363.079\tvalid_0's l1: 15.4571\n",
      "[59]\tvalid_0's l2: 362.713\tvalid_0's l1: 15.4508\n",
      "[60]\tvalid_0's l2: 362.392\tvalid_0's l1: 15.4449\n",
      "[61]\tvalid_0's l2: 362.106\tvalid_0's l1: 15.4399\n",
      "[62]\tvalid_0's l2: 361.825\tvalid_0's l1: 15.4348\n",
      "[63]\tvalid_0's l2: 361.309\tvalid_0's l1: 15.4265\n",
      "[64]\tvalid_0's l2: 361.12\tvalid_0's l1: 15.4232\n",
      "[65]\tvalid_0's l2: 360.858\tvalid_0's l1: 15.4186\n",
      "[66]\tvalid_0's l2: 360.698\tvalid_0's l1: 15.4157\n",
      "[67]\tvalid_0's l2: 360.45\tvalid_0's l1: 15.4114\n",
      "[68]\tvalid_0's l2: 360.224\tvalid_0's l1: 15.4076\n",
      "[69]\tvalid_0's l2: 360.087\tvalid_0's l1: 15.4054\n",
      "[70]\tvalid_0's l2: 359.791\tvalid_0's l1: 15.4007\n",
      "[71]\tvalid_0's l2: 359.672\tvalid_0's l1: 15.3984\n",
      "[72]\tvalid_0's l2: 359.531\tvalid_0's l1: 15.3961\n",
      "[73]\tvalid_0's l2: 359.396\tvalid_0's l1: 15.3938\n",
      "[74]\tvalid_0's l2: 359.316\tvalid_0's l1: 15.3925\n",
      "[75]\tvalid_0's l2: 359.176\tvalid_0's l1: 15.39\n",
      "[76]\tvalid_0's l2: 359.109\tvalid_0's l1: 15.3888\n",
      "[77]\tvalid_0's l2: 359.008\tvalid_0's l1: 15.3871\n",
      "[78]\tvalid_0's l2: 358.843\tvalid_0's l1: 15.3844\n",
      "[79]\tvalid_0's l2: 358.738\tvalid_0's l1: 15.3825\n",
      "[80]\tvalid_0's l2: 358.651\tvalid_0's l1: 15.3811\n",
      "[81]\tvalid_0's l2: 358.582\tvalid_0's l1: 15.3798\n",
      "[82]\tvalid_0's l2: 358.507\tvalid_0's l1: 15.3788\n",
      "[83]\tvalid_0's l2: 358.454\tvalid_0's l1: 15.378\n",
      "[84]\tvalid_0's l2: 358.388\tvalid_0's l1: 15.377\n",
      "[85]\tvalid_0's l2: 358.335\tvalid_0's l1: 15.3762\n",
      "[86]\tvalid_0's l2: 358.28\tvalid_0's l1: 15.3752\n",
      "[87]\tvalid_0's l2: 358.238\tvalid_0's l1: 15.3745\n",
      "[88]\tvalid_0's l2: 358.167\tvalid_0's l1: 15.3734\n",
      "[89]\tvalid_0's l2: 358.125\tvalid_0's l1: 15.3727\n",
      "[90]\tvalid_0's l2: 358.089\tvalid_0's l1: 15.3723\n",
      "[91]\tvalid_0's l2: 358.058\tvalid_0's l1: 15.3717\n",
      "[92]\tvalid_0's l2: 358.013\tvalid_0's l1: 15.371\n",
      "[93]\tvalid_0's l2: 357.982\tvalid_0's l1: 15.3705\n",
      "[94]\tvalid_0's l2: 357.954\tvalid_0's l1: 15.37\n",
      "[95]\tvalid_0's l2: 357.908\tvalid_0's l1: 15.3692\n",
      "[96]\tvalid_0's l2: 357.847\tvalid_0's l1: 15.3682\n",
      "[97]\tvalid_0's l2: 357.795\tvalid_0's l1: 15.3674\n",
      "[98]\tvalid_0's l2: 357.766\tvalid_0's l1: 15.367\n",
      "[99]\tvalid_0's l2: 357.765\tvalid_0's l1: 15.3669\n",
      "[100]\tvalid_0's l2: 357.704\tvalid_0's l1: 15.3659\n",
      "[101]\tvalid_0's l2: 357.675\tvalid_0's l1: 15.3655\n",
      "[102]\tvalid_0's l2: 357.64\tvalid_0's l1: 15.3649\n",
      "[103]\tvalid_0's l2: 357.635\tvalid_0's l1: 15.365\n",
      "[104]\tvalid_0's l2: 357.619\tvalid_0's l1: 15.3648\n",
      "[105]\tvalid_0's l2: 357.576\tvalid_0's l1: 15.3642\n",
      "[106]\tvalid_0's l2: 357.561\tvalid_0's l1: 15.3639\n",
      "[107]\tvalid_0's l2: 357.53\tvalid_0's l1: 15.3633\n",
      "[108]\tvalid_0's l2: 357.519\tvalid_0's l1: 15.3631\n",
      "[109]\tvalid_0's l2: 357.518\tvalid_0's l1: 15.3631\n",
      "[110]\tvalid_0's l2: 357.51\tvalid_0's l1: 15.3629\n",
      "[111]\tvalid_0's l2: 357.504\tvalid_0's l1: 15.3627\n",
      "[112]\tvalid_0's l2: 357.482\tvalid_0's l1: 15.3623\n",
      "[113]\tvalid_0's l2: 357.475\tvalid_0's l1: 15.3623\n",
      "[114]\tvalid_0's l2: 357.465\tvalid_0's l1: 15.362\n",
      "[115]\tvalid_0's l2: 357.463\tvalid_0's l1: 15.3619\n",
      "[116]\tvalid_0's l2: 357.456\tvalid_0's l1: 15.3618\n",
      "[117]\tvalid_0's l2: 357.441\tvalid_0's l1: 15.3616\n",
      "[118]\tvalid_0's l2: 357.443\tvalid_0's l1: 15.3616\n",
      "[119]\tvalid_0's l2: 357.435\tvalid_0's l1: 15.3614\n",
      "[120]\tvalid_0's l2: 357.415\tvalid_0's l1: 15.3611\n",
      "[121]\tvalid_0's l2: 357.397\tvalid_0's l1: 15.3609\n",
      "[122]\tvalid_0's l2: 357.389\tvalid_0's l1: 15.3607\n",
      "[123]\tvalid_0's l2: 357.379\tvalid_0's l1: 15.3606\n",
      "[124]\tvalid_0's l2: 357.374\tvalid_0's l1: 15.3604\n",
      "[125]\tvalid_0's l2: 357.377\tvalid_0's l1: 15.3605\n",
      "[126]\tvalid_0's l2: 357.369\tvalid_0's l1: 15.3603\n",
      "[127]\tvalid_0's l2: 357.363\tvalid_0's l1: 15.3603\n",
      "[128]\tvalid_0's l2: 357.359\tvalid_0's l1: 15.3601\n",
      "[129]\tvalid_0's l2: 357.353\tvalid_0's l1: 15.36\n",
      "[130]\tvalid_0's l2: 357.349\tvalid_0's l1: 15.3599\n",
      "[131]\tvalid_0's l2: 357.34\tvalid_0's l1: 15.3598\n",
      "[132]\tvalid_0's l2: 357.34\tvalid_0's l1: 15.3598\n",
      "[133]\tvalid_0's l2: 357.339\tvalid_0's l1: 15.3599\n",
      "[134]\tvalid_0's l2: 357.332\tvalid_0's l1: 15.3597\n",
      "[135]\tvalid_0's l2: 357.327\tvalid_0's l1: 15.3596\n",
      "[136]\tvalid_0's l2: 357.323\tvalid_0's l1: 15.3595\n",
      "[137]\tvalid_0's l2: 357.327\tvalid_0's l1: 15.3596\n",
      "[138]\tvalid_0's l2: 357.324\tvalid_0's l1: 15.3596\n",
      "[139]\tvalid_0's l2: 357.325\tvalid_0's l1: 15.3596\n",
      "[140]\tvalid_0's l2: 357.314\tvalid_0's l1: 15.3593\n",
      "[141]\tvalid_0's l2: 357.31\tvalid_0's l1: 15.3592\n",
      "[142]\tvalid_0's l2: 357.313\tvalid_0's l1: 15.3593\n",
      "[143]\tvalid_0's l2: 357.31\tvalid_0's l1: 15.3592\n",
      "[144]\tvalid_0's l2: 357.312\tvalid_0's l1: 15.3593\n",
      "[145]\tvalid_0's l2: 357.3\tvalid_0's l1: 15.3591\n",
      "[146]\tvalid_0's l2: 357.292\tvalid_0's l1: 15.359\n",
      "[147]\tvalid_0's l2: 357.281\tvalid_0's l1: 15.3588\n",
      "[148]\tvalid_0's l2: 357.279\tvalid_0's l1: 15.3587\n",
      "[149]\tvalid_0's l2: 357.277\tvalid_0's l1: 15.3586\n",
      "[150]\tvalid_0's l2: 357.277\tvalid_0's l1: 15.3586\n",
      "[151]\tvalid_0's l2: 357.272\tvalid_0's l1: 15.3585\n",
      "[152]\tvalid_0's l2: 357.276\tvalid_0's l1: 15.3585\n",
      "[153]\tvalid_0's l2: 357.284\tvalid_0's l1: 15.3586\n",
      "[154]\tvalid_0's l2: 357.283\tvalid_0's l1: 15.3586\n",
      "[155]\tvalid_0's l2: 357.274\tvalid_0's l1: 15.3584\n",
      "[156]\tvalid_0's l2: 357.272\tvalid_0's l1: 15.3584\n",
      "[157]\tvalid_0's l2: 357.263\tvalid_0's l1: 15.3582\n",
      "[158]\tvalid_0's l2: 357.262\tvalid_0's l1: 15.3582\n",
      "[159]\tvalid_0's l2: 357.265\tvalid_0's l1: 15.3584\n",
      "[160]\tvalid_0's l2: 357.266\tvalid_0's l1: 15.3584\n",
      "Did not meet early stopping. Best iteration is:\n",
      "[158]\tvalid_0's l2: 357.262\tvalid_0's l1: 15.3582\n"
     ]
    }
   ],
   "source": [
    "import lightgbm as lgbm\n",
    "lgbm_train = lgbm.Dataset(feature_train, target_train)\n",
    "lgbm_valid = lgbm.Dataset(feature_valid, target_valid)\n",
    "\n",
    "params = {\n",
    "    'boosting_type': 'gbdt',\n",
    "    'objective': 'regression',\n",
    "    'metric': {'l2', 'l1'},\n",
    "    'num_leaves': 40,\n",
    "    'learning_rate': 0.1,\n",
    "    'feature_fraction': 0.8,\n",
    "    'bagging_fraction': 0.8,\n",
    "    'bagging_freq': 5,\n",
    "    'verbose': 5,\n",
    "    'n_estimators':160\n",
    "    \n",
    "\n",
    "}\n",
    "lgb = lgbm.train(params,\n",
    "                  lgbm_train,\n",
    "                  num_boost_round=2000,\n",
    "                  valid_sets=lgbm_valid,\n",
    "                  early_stopping_rounds=50)"
   ]
  },
  {
   "cell_type": "code",
   "execution_count": 49,
   "metadata": {},
   "outputs": [
    {
     "data": {
      "text/plain": [
       "357.2616322275043"
      ]
     },
     "execution_count": 49,
     "metadata": {},
     "output_type": "execute_result"
    }
   ],
   "source": [
    "lgb_preds = lgb.predict(feature_valid, num_iteration=lgb.best_iteration)\n",
    "mean_squared_error(target_valid, lgb_preds) "
   ]
  },
  {
   "cell_type": "code",
   "execution_count": 50,
   "metadata": {},
   "outputs": [],
   "source": [
    "feature_importances = pd.DataFrame({'FeatureName':features.columns, 'Importance':lgb.feature_importance()})"
   ]
  },
  {
   "cell_type": "markdown",
   "metadata": {},
   "source": [
    "`LightGBM` algorithm gave better result than the baseline model but not better than polynomial featured regression values."
   ]
  },
  {
   "cell_type": "code",
   "execution_count": 51,
   "metadata": {},
   "outputs": [
    {
     "data": {
      "text/html": [
       "<div>\n",
       "<style scoped>\n",
       "    .dataframe tbody tr th:only-of-type {\n",
       "        vertical-align: middle;\n",
       "    }\n",
       "\n",
       "    .dataframe tbody tr th {\n",
       "        vertical-align: top;\n",
       "    }\n",
       "\n",
       "    .dataframe thead th {\n",
       "        text-align: right;\n",
       "    }\n",
       "</style>\n",
       "<table border=\"1\" class=\"dataframe\">\n",
       "  <thead>\n",
       "    <tr style=\"text-align: right;\">\n",
       "      <th></th>\n",
       "      <th>FeatureName</th>\n",
       "      <th>Importance</th>\n",
       "    </tr>\n",
       "  </thead>\n",
       "  <tbody>\n",
       "    <tr>\n",
       "      <th>1</th>\n",
       "      <td>milesFromMetropolis</td>\n",
       "      <td>6.722520</td>\n",
       "    </tr>\n",
       "    <tr>\n",
       "      <th>0</th>\n",
       "      <td>yearsExperience</td>\n",
       "      <td>5.350965</td>\n",
       "    </tr>\n",
       "    <tr>\n",
       "      <th>87</th>\n",
       "      <td>industry_EDUCATION</td>\n",
       "      <td>1.128426</td>\n",
       "    </tr>\n",
       "    <tr>\n",
       "      <th>93</th>\n",
       "      <td>industry_OIL</td>\n",
       "      <td>0.989729</td>\n",
       "    </tr>\n",
       "    <tr>\n",
       "      <th>72</th>\n",
       "      <td>jobType_CEO</td>\n",
       "      <td>0.974319</td>\n",
       "    </tr>\n",
       "    <tr>\n",
       "      <th>92</th>\n",
       "      <td>industry_FINANCE</td>\n",
       "      <td>0.951203</td>\n",
       "    </tr>\n",
       "    <tr>\n",
       "      <th>90</th>\n",
       "      <td>industry_HEALTH</td>\n",
       "      <td>0.812506</td>\n",
       "    </tr>\n",
       "    <tr>\n",
       "      <th>88</th>\n",
       "      <td>industry_SERVICE</td>\n",
       "      <td>0.797095</td>\n",
       "    </tr>\n",
       "    <tr>\n",
       "      <th>71</th>\n",
       "      <td>jobType_CTO</td>\n",
       "      <td>0.720042</td>\n",
       "    </tr>\n",
       "    <tr>\n",
       "      <th>66</th>\n",
       "      <td>jobType_JUNIOR</td>\n",
       "      <td>0.689220</td>\n",
       "    </tr>\n",
       "  </tbody>\n",
       "</table>\n",
       "</div>"
      ],
      "text/plain": [
       "            FeatureName  Importance\n",
       "1   milesFromMetropolis    6.722520\n",
       "0       yearsExperience    5.350965\n",
       "87   industry_EDUCATION    1.128426\n",
       "93         industry_OIL    0.989729\n",
       "72          jobType_CEO    0.974319\n",
       "92     industry_FINANCE    0.951203\n",
       "90      industry_HEALTH    0.812506\n",
       "88     industry_SERVICE    0.797095\n",
       "71          jobType_CTO    0.720042\n",
       "66       jobType_JUNIOR    0.689220"
      ]
     },
     "execution_count": 51,
     "metadata": {},
     "output_type": "execute_result"
    }
   ],
   "source": [
    "ss = StandardScaler()\n",
    "feature_importances['Importance'] = ss.fit_transform(feature_importances['Importance'].values.reshape(94,1))\n",
    "feature_importances.sort_values(by='Importance', ascending=False)[:10]"
   ]
  },
  {
   "cell_type": "markdown",
   "metadata": {},
   "source": [
    "\n",
    "The above table represents the top 10 features of a given dataset.<br>\n",
    "\n",
    "`LightGBM` algorithm gave second best results in the list of the models applied to the given dataset.<br>\n",
    "\n",
    "Since LightGBM and second order polynomials are the best two models, we have right now. \n"
   ]
  },
  {
   "cell_type": "markdown",
   "metadata": {},
   "source": [
    "Let's see if some feature engineering helps us to improve the MSE value.<br>\n",
    "My idea is to create new features based on all the categorical features as follows.<br>\n",
    "- Group all the categorical variables.\n",
    "- Calculate the basic statistics such as mean, median, standard deviation, min and max values.\n",
    "- Broadcast those values across the dataset based on categorical columns."
   ]
  },
  {
   "cell_type": "code",
   "execution_count": 52,
   "metadata": {},
   "outputs": [],
   "source": [
    "# define a function to calculate the group stats based on column and return a dataframe\n",
    "def grp_stats(df,cat_cols, p_col):\n",
    "    yr_stats = pd.DataFrame(columns=['grp_mean', 'grp_median', 'grp_max', 'grp_min', 'grp_std'])\n",
    "    yr_stats['grp_mean'] = df.groupby(cat_cols)[p_col].mean()\n",
    "    yr_stats['grp_median'] = df.groupby(cat_cols)[p_col].median()\n",
    "    yr_stats['grp_max'] = df.groupby(cat_cols)[p_col].max()\n",
    "    yr_stats['grp_min'] = df.groupby(cat_cols)[p_col].min()\n",
    "    yr_stats['grp_std'] = df.groupby(cat_cols)[p_col].std()\n",
    "    return yr_stats\n"
   ]
  },
  {
   "cell_type": "code",
   "execution_count": 53,
   "metadata": {},
   "outputs": [],
   "source": [
    "# creating cataegory column list\n",
    "cat_cols = ['companyId', 'jobType', 'degree', 'major', 'industry']\n",
    "\n",
    "# calculate group stats\n",
    "yr_grp_stats= grp_stats(feature_df, cat_cols, 'salary')\n",
    "\n",
    "# merge group stats into features \n",
    "new_features =pd.merge(feature_df, yr_grp_stats, on=cat_cols, how='left')\n",
    "\n",
    "# merge group stats into test set \n",
    "test_df = pd.merge(test_df, yr_grp_stats, on=cat_cols, how='left')\n",
    "\n",
    "# remove target column\n",
    "new_features.drop(['salary', ], axis=1, inplace=True)"
   ]
  },
  {
   "cell_type": "code",
   "execution_count": 54,
   "metadata": {},
   "outputs": [
    {
     "data": {
      "text/plain": [
       "(companyId                0\n",
       " jobType                  0\n",
       " degree                   0\n",
       " major                    0\n",
       " industry                 0\n",
       " yearsExperience          0\n",
       " milesFromMetropolis      0\n",
       " grp_mean                 0\n",
       " grp_median               0\n",
       " grp_max                  0\n",
       " grp_min                  0\n",
       " grp_std                921\n",
       " dtype: int64, companyId                 0\n",
       " jobType                   0\n",
       " degree                    0\n",
       " major                     0\n",
       " industry                  0\n",
       " yearsExperience           0\n",
       " milesFromMetropolis       0\n",
       " grp_mean                908\n",
       " grp_median              908\n",
       " grp_max                 908\n",
       " grp_min                 908\n",
       " grp_std                6666\n",
       " dtype: int64)"
      ]
     },
     "execution_count": 54,
     "metadata": {},
     "output_type": "execute_result"
    }
   ],
   "source": [
    "# checking for null values\n",
    "new_features.isna().sum(), test_df.isnull().sum()"
   ]
  },
  {
   "cell_type": "code",
   "execution_count": 55,
   "metadata": {},
   "outputs": [],
   "source": [
    "# replacing null values with 0's\n",
    "new_features['grp_std'].fillna(0, inplace=True)\n",
    "test_df['grp_mean'].fillna(0, inplace=True)\n",
    "test_df['grp_median'].fillna(0, inplace=True)\n",
    "test_df['grp_max'].fillna(0, inplace=True)\n",
    "test_df['grp_min'].fillna(0, inplace=True)\n",
    "test_df['grp_std'].fillna(0, inplace=True)\n",
    "\n"
   ]
  },
  {
   "cell_type": "code",
   "execution_count": 56,
   "metadata": {},
   "outputs": [
    {
     "data": {
      "text/plain": [
       "(companyId              0\n",
       " jobType                0\n",
       " degree                 0\n",
       " major                  0\n",
       " industry               0\n",
       " yearsExperience        0\n",
       " milesFromMetropolis    0\n",
       " grp_mean               0\n",
       " grp_median             0\n",
       " grp_max                0\n",
       " grp_min                0\n",
       " grp_std                0\n",
       " dtype: int64, companyId              0\n",
       " jobType                0\n",
       " degree                 0\n",
       " major                  0\n",
       " industry               0\n",
       " yearsExperience        0\n",
       " milesFromMetropolis    0\n",
       " grp_mean               0\n",
       " grp_median             0\n",
       " grp_max                0\n",
       " grp_min                0\n",
       " grp_std                0\n",
       " dtype: int64)"
      ]
     },
     "execution_count": 56,
     "metadata": {},
     "output_type": "execute_result"
    }
   ],
   "source": [
    "# Check for null values after filling null vlaues with 0's\n",
    "new_features.isnull().sum(), test_df.isnull().sum()\n"
   ]
  },
  {
   "cell_type": "markdown",
   "metadata": {},
   "source": [
    "This time let's build only two best models that are lightGBM and polynomial Linear Regression models."
   ]
  },
  {
   "cell_type": "code",
   "execution_count": 57,
   "metadata": {},
   "outputs": [],
   "source": [
    "# creating dummies for new featured columns\n",
    "new_features = pd.get_dummies(new_features)\n",
    "test_df = pd.get_dummies(test_df)\n",
    "new_feature_train, new_feature_valid, target_train, target_valid = train_test_split(new_features, target, test_size=0.3, random_state=2019, shuffle=True)"
   ]
  },
  {
   "cell_type": "code",
   "execution_count": 58,
   "metadata": {},
   "outputs": [
    {
     "name": "stdout",
     "output_type": "stream",
     "text": [
      "[1]\tvalid_0's l2: 1308.72\tvalid_0's l1: 28.9542\n",
      "Training until validation scores don't improve for 50 rounds.\n",
      "[2]\tvalid_0's l2: 1138.59\tvalid_0's l1: 27.0218\n",
      "[3]\tvalid_0's l2: 999.912\tvalid_0's l1: 25.3222\n",
      "[4]\tvalid_0's l2: 894.194\tvalid_0's l1: 23.9664\n",
      "[5]\tvalid_0's l2: 822.078\tvalid_0's l1: 22.9994\n",
      "[6]\tvalid_0's l2: 737.805\tvalid_0's l1: 21.8288\n",
      "[7]\tvalid_0's l2: 677.382\tvalid_0's l1: 20.9417\n",
      "[8]\tvalid_0's l2: 618.262\tvalid_0's l1: 20.0446\n",
      "[9]\tvalid_0's l2: 569.237\tvalid_0's l1: 19.2703\n",
      "[10]\tvalid_0's l2: 534.919\tvalid_0's l1: 18.7029\n",
      "[11]\tvalid_0's l2: 499.984\tvalid_0's l1: 18.1066\n",
      "[12]\tvalid_0's l2: 476.681\tvalid_0's l1: 17.6936\n",
      "[13]\tvalid_0's l2: 451.416\tvalid_0's l1: 17.2404\n",
      "[14]\tvalid_0's l2: 430.282\tvalid_0's l1: 16.8492\n",
      "[15]\tvalid_0's l2: 420.223\tvalid_0's l1: 16.6495\n",
      "[16]\tvalid_0's l2: 404.4\tvalid_0's l1: 16.336\n",
      "[17]\tvalid_0's l2: 391.353\tvalid_0's l1: 16.0694\n",
      "[18]\tvalid_0's l2: 382.834\tvalid_0's l1: 15.8856\n",
      "[19]\tvalid_0's l2: 373.144\tvalid_0's l1: 15.6755\n",
      "[20]\tvalid_0's l2: 366.239\tvalid_0's l1: 15.5276\n",
      "[21]\tvalid_0's l2: 360.973\tvalid_0's l1: 15.4088\n",
      "[22]\tvalid_0's l2: 356.472\tvalid_0's l1: 15.3039\n",
      "[23]\tvalid_0's l2: 350.71\tvalid_0's l1: 15.1759\n",
      "[24]\tvalid_0's l2: 345.73\tvalid_0's l1: 15.061\n",
      "[25]\tvalid_0's l2: 341.539\tvalid_0's l1: 14.9636\n",
      "[26]\tvalid_0's l2: 338.044\tvalid_0's l1: 14.8829\n",
      "[27]\tvalid_0's l2: 335.096\tvalid_0's l1: 14.8077\n",
      "[28]\tvalid_0's l2: 332.565\tvalid_0's l1: 14.7433\n",
      "[29]\tvalid_0's l2: 330.988\tvalid_0's l1: 14.6992\n",
      "[30]\tvalid_0's l2: 328.982\tvalid_0's l1: 14.647\n",
      "[31]\tvalid_0's l2: 327.274\tvalid_0's l1: 14.6008\n",
      "[32]\tvalid_0's l2: 326.075\tvalid_0's l1: 14.5681\n",
      "[33]\tvalid_0's l2: 324.983\tvalid_0's l1: 14.5404\n",
      "[34]\tvalid_0's l2: 323.786\tvalid_0's l1: 14.5068\n",
      "[35]\tvalid_0's l2: 322.767\tvalid_0's l1: 14.4781\n",
      "[36]\tvalid_0's l2: 321.879\tvalid_0's l1: 14.4548\n",
      "[37]\tvalid_0's l2: 321.064\tvalid_0's l1: 14.4298\n",
      "[38]\tvalid_0's l2: 320.387\tvalid_0's l1: 14.4099\n",
      "[39]\tvalid_0's l2: 319.828\tvalid_0's l1: 14.3942\n",
      "[40]\tvalid_0's l2: 319.27\tvalid_0's l1: 14.379\n",
      "[41]\tvalid_0's l2: 318.816\tvalid_0's l1: 14.367\n",
      "[42]\tvalid_0's l2: 318.381\tvalid_0's l1: 14.3548\n",
      "[43]\tvalid_0's l2: 317.925\tvalid_0's l1: 14.3401\n",
      "[44]\tvalid_0's l2: 317.52\tvalid_0's l1: 14.3285\n",
      "[45]\tvalid_0's l2: 317.166\tvalid_0's l1: 14.3174\n",
      "[46]\tvalid_0's l2: 316.874\tvalid_0's l1: 14.3086\n",
      "[47]\tvalid_0's l2: 316.602\tvalid_0's l1: 14.3037\n",
      "[48]\tvalid_0's l2: 316.342\tvalid_0's l1: 14.2957\n",
      "[49]\tvalid_0's l2: 316.068\tvalid_0's l1: 14.2865\n",
      "[50]\tvalid_0's l2: 315.783\tvalid_0's l1: 14.2781\n",
      "[51]\tvalid_0's l2: 315.55\tvalid_0's l1: 14.2726\n",
      "[52]\tvalid_0's l2: 315.336\tvalid_0's l1: 14.2667\n",
      "[53]\tvalid_0's l2: 315.157\tvalid_0's l1: 14.2612\n",
      "[54]\tvalid_0's l2: 314.965\tvalid_0's l1: 14.2563\n",
      "[55]\tvalid_0's l2: 314.803\tvalid_0's l1: 14.2525\n",
      "[56]\tvalid_0's l2: 314.615\tvalid_0's l1: 14.2473\n",
      "[57]\tvalid_0's l2: 314.456\tvalid_0's l1: 14.2433\n",
      "[58]\tvalid_0's l2: 314.322\tvalid_0's l1: 14.2389\n",
      "[59]\tvalid_0's l2: 314.151\tvalid_0's l1: 14.2356\n",
      "[60]\tvalid_0's l2: 314.049\tvalid_0's l1: 14.2331\n",
      "[61]\tvalid_0's l2: 313.921\tvalid_0's l1: 14.2303\n",
      "[62]\tvalid_0's l2: 313.785\tvalid_0's l1: 14.2277\n",
      "[63]\tvalid_0's l2: 313.667\tvalid_0's l1: 14.2251\n",
      "[64]\tvalid_0's l2: 313.519\tvalid_0's l1: 14.223\n",
      "[65]\tvalid_0's l2: 313.383\tvalid_0's l1: 14.2177\n",
      "[66]\tvalid_0's l2: 313.266\tvalid_0's l1: 14.215\n",
      "[67]\tvalid_0's l2: 313.149\tvalid_0's l1: 14.2124\n",
      "[68]\tvalid_0's l2: 313.012\tvalid_0's l1: 14.2085\n",
      "[69]\tvalid_0's l2: 312.913\tvalid_0's l1: 14.2053\n",
      "[70]\tvalid_0's l2: 312.773\tvalid_0's l1: 14.2031\n",
      "[71]\tvalid_0's l2: 312.657\tvalid_0's l1: 14.2013\n",
      "[72]\tvalid_0's l2: 312.534\tvalid_0's l1: 14.1978\n",
      "[73]\tvalid_0's l2: 312.413\tvalid_0's l1: 14.196\n",
      "[74]\tvalid_0's l2: 312.327\tvalid_0's l1: 14.1937\n",
      "[75]\tvalid_0's l2: 312.225\tvalid_0's l1: 14.1913\n",
      "[76]\tvalid_0's l2: 312.153\tvalid_0's l1: 14.1896\n",
      "[77]\tvalid_0's l2: 312.08\tvalid_0's l1: 14.1886\n",
      "[78]\tvalid_0's l2: 311.997\tvalid_0's l1: 14.1873\n",
      "[79]\tvalid_0's l2: 311.937\tvalid_0's l1: 14.1857\n",
      "[80]\tvalid_0's l2: 311.867\tvalid_0's l1: 14.1847\n",
      "[81]\tvalid_0's l2: 311.773\tvalid_0's l1: 14.1827\n",
      "[82]\tvalid_0's l2: 311.72\tvalid_0's l1: 14.1807\n",
      "[83]\tvalid_0's l2: 311.607\tvalid_0's l1: 14.1794\n",
      "[84]\tvalid_0's l2: 311.519\tvalid_0's l1: 14.1767\n",
      "[85]\tvalid_0's l2: 311.452\tvalid_0's l1: 14.1757\n",
      "[86]\tvalid_0's l2: 311.407\tvalid_0's l1: 14.1745\n",
      "[87]\tvalid_0's l2: 311.316\tvalid_0's l1: 14.1734\n",
      "[88]\tvalid_0's l2: 311.265\tvalid_0's l1: 14.1722\n",
      "[89]\tvalid_0's l2: 311.168\tvalid_0's l1: 14.1699\n",
      "[90]\tvalid_0's l2: 311.088\tvalid_0's l1: 14.1691\n",
      "[91]\tvalid_0's l2: 311.041\tvalid_0's l1: 14.1682\n",
      "[92]\tvalid_0's l2: 310.963\tvalid_0's l1: 14.1663\n",
      "[93]\tvalid_0's l2: 310.906\tvalid_0's l1: 14.1655\n",
      "[94]\tvalid_0's l2: 310.857\tvalid_0's l1: 14.165\n",
      "[95]\tvalid_0's l2: 310.818\tvalid_0's l1: 14.1643\n",
      "[96]\tvalid_0's l2: 310.764\tvalid_0's l1: 14.1635\n",
      "[97]\tvalid_0's l2: 310.705\tvalid_0's l1: 14.1612\n",
      "[98]\tvalid_0's l2: 310.634\tvalid_0's l1: 14.1591\n",
      "[99]\tvalid_0's l2: 310.573\tvalid_0's l1: 14.1585\n",
      "[100]\tvalid_0's l2: 310.516\tvalid_0's l1: 14.1566\n",
      "[101]\tvalid_0's l2: 310.452\tvalid_0's l1: 14.1552\n",
      "[102]\tvalid_0's l2: 310.425\tvalid_0's l1: 14.1547\n",
      "[103]\tvalid_0's l2: 310.386\tvalid_0's l1: 14.1539\n",
      "[104]\tvalid_0's l2: 310.347\tvalid_0's l1: 14.1532\n",
      "[105]\tvalid_0's l2: 310.271\tvalid_0's l1: 14.1515\n",
      "[106]\tvalid_0's l2: 310.221\tvalid_0's l1: 14.1511\n",
      "[107]\tvalid_0's l2: 310.175\tvalid_0's l1: 14.15\n",
      "[108]\tvalid_0's l2: 310.109\tvalid_0's l1: 14.1479\n",
      "[109]\tvalid_0's l2: 310.042\tvalid_0's l1: 14.1456\n",
      "[110]\tvalid_0's l2: 310.006\tvalid_0's l1: 14.1452\n",
      "[111]\tvalid_0's l2: 309.952\tvalid_0's l1: 14.1444\n",
      "[112]\tvalid_0's l2: 309.924\tvalid_0's l1: 14.1443\n",
      "[113]\tvalid_0's l2: 309.887\tvalid_0's l1: 14.1439\n",
      "[114]\tvalid_0's l2: 309.829\tvalid_0's l1: 14.142\n",
      "[115]\tvalid_0's l2: 309.786\tvalid_0's l1: 14.1409\n",
      "[116]\tvalid_0's l2: 309.75\tvalid_0's l1: 14.1401\n",
      "[117]\tvalid_0's l2: 309.714\tvalid_0's l1: 14.14\n",
      "[118]\tvalid_0's l2: 309.677\tvalid_0's l1: 14.1387\n",
      "[119]\tvalid_0's l2: 309.632\tvalid_0's l1: 14.1374\n",
      "[120]\tvalid_0's l2: 309.593\tvalid_0's l1: 14.1368\n",
      "[121]\tvalid_0's l2: 309.558\tvalid_0's l1: 14.1363\n",
      "[122]\tvalid_0's l2: 309.526\tvalid_0's l1: 14.1361\n",
      "[123]\tvalid_0's l2: 309.505\tvalid_0's l1: 14.1359\n",
      "[124]\tvalid_0's l2: 309.484\tvalid_0's l1: 14.1355\n",
      "[125]\tvalid_0's l2: 309.421\tvalid_0's l1: 14.1335\n",
      "[126]\tvalid_0's l2: 309.408\tvalid_0's l1: 14.1332\n",
      "[127]\tvalid_0's l2: 309.381\tvalid_0's l1: 14.133\n",
      "[128]\tvalid_0's l2: 309.359\tvalid_0's l1: 14.1324\n",
      "[129]\tvalid_0's l2: 309.32\tvalid_0's l1: 14.1317\n",
      "[130]\tvalid_0's l2: 309.292\tvalid_0's l1: 14.1312\n",
      "[131]\tvalid_0's l2: 309.276\tvalid_0's l1: 14.1307\n",
      "[132]\tvalid_0's l2: 309.24\tvalid_0's l1: 14.1307\n",
      "[133]\tvalid_0's l2: 309.217\tvalid_0's l1: 14.1301\n",
      "[134]\tvalid_0's l2: 309.182\tvalid_0's l1: 14.1287\n",
      "[135]\tvalid_0's l2: 309.157\tvalid_0's l1: 14.1281\n",
      "[136]\tvalid_0's l2: 309.148\tvalid_0's l1: 14.128\n",
      "[137]\tvalid_0's l2: 309.128\tvalid_0's l1: 14.1279\n",
      "[138]\tvalid_0's l2: 309.121\tvalid_0's l1: 14.1277\n",
      "[139]\tvalid_0's l2: 309.106\tvalid_0's l1: 14.1274\n",
      "[140]\tvalid_0's l2: 309.07\tvalid_0's l1: 14.1261\n",
      "[141]\tvalid_0's l2: 309.049\tvalid_0's l1: 14.1256\n",
      "[142]\tvalid_0's l2: 308.988\tvalid_0's l1: 14.1235\n",
      "[143]\tvalid_0's l2: 308.965\tvalid_0's l1: 14.1234\n",
      "[144]\tvalid_0's l2: 308.947\tvalid_0's l1: 14.1231\n",
      "[145]\tvalid_0's l2: 308.938\tvalid_0's l1: 14.1231\n",
      "[146]\tvalid_0's l2: 308.907\tvalid_0's l1: 14.1223\n",
      "[147]\tvalid_0's l2: 308.872\tvalid_0's l1: 14.1211\n",
      "[148]\tvalid_0's l2: 308.845\tvalid_0's l1: 14.1201\n",
      "[149]\tvalid_0's l2: 308.824\tvalid_0's l1: 14.1193\n",
      "[150]\tvalid_0's l2: 308.821\tvalid_0's l1: 14.1189\n",
      "[151]\tvalid_0's l2: 308.794\tvalid_0's l1: 14.1186\n",
      "[152]\tvalid_0's l2: 308.781\tvalid_0's l1: 14.1184\n",
      "[153]\tvalid_0's l2: 308.762\tvalid_0's l1: 14.1179\n",
      "[154]\tvalid_0's l2: 308.723\tvalid_0's l1: 14.1167\n",
      "[155]\tvalid_0's l2: 308.711\tvalid_0's l1: 14.1164\n",
      "[156]\tvalid_0's l2: 308.706\tvalid_0's l1: 14.1161\n",
      "[157]\tvalid_0's l2: 308.689\tvalid_0's l1: 14.1161\n",
      "[158]\tvalid_0's l2: 308.643\tvalid_0's l1: 14.1143\n",
      "[159]\tvalid_0's l2: 308.626\tvalid_0's l1: 14.1143\n",
      "[160]\tvalid_0's l2: 308.606\tvalid_0's l1: 14.1138\n",
      "Did not meet early stopping. Best iteration is:\n",
      "[160]\tvalid_0's l2: 308.606\tvalid_0's l1: 14.1138\n"
     ]
    }
   ],
   "source": [
    "# lightGBM model\n",
    "lgbm_train = lgbm.Dataset(new_feature_train, target_train)\n",
    "lgbm_valid = lgbm.Dataset(new_feature_valid, target_valid)\n",
    "\n",
    "params = {\n",
    "    'boosting_type': 'gbdt',\n",
    "    'objective': 'regression',\n",
    "    'metric': {'l2', 'l1'},\n",
    "    'num_leaves': 40,\n",
    "    'learning_rate': 0.1,\n",
    "    'feature_fraction': 0.8,\n",
    "    'bagging_fraction': 0.8,\n",
    "    'bagging_freq': 5,\n",
    "    'verbose': 5,\n",
    "    'n_estimators':160\n",
    "    \n",
    "\n",
    "}\n",
    "new_lgb = lgbm.train(params,\n",
    "                  lgbm_train,\n",
    "                  num_boost_round=2000,\n",
    "                  valid_sets=lgbm_valid,\n",
    "                  early_stopping_rounds=50)"
   ]
  },
  {
   "cell_type": "code",
   "execution_count": 59,
   "metadata": {},
   "outputs": [
    {
     "data": {
      "text/plain": [
       "308.6426287786449"
      ]
     },
     "execution_count": 59,
     "metadata": {},
     "output_type": "execute_result"
    }
   ],
   "source": [
    "# predicting values on validation set\n",
    "new_lgb_preds = new_lgb.predict(new_feature_valid, num_iteration=lgb.best_iteration)\n",
    "mean_squared_error(target_valid, new_lgb_preds) "
   ]
  },
  {
   "cell_type": "code",
   "execution_count": 60,
   "metadata": {},
   "outputs": [
    {
     "data": {
      "text/plain": [
       "0.7943435431482876"
      ]
     },
     "execution_count": 60,
     "metadata": {},
     "output_type": "execute_result"
    }
   ],
   "source": [
    "# LightGBM sklearn version\n",
    "from lightgbm import LGBMRegressor\n",
    "\n",
    "\n",
    "sklgbm = LGBMRegressor(boosting_type='gbdt', objective='regression', num_leaves=40,\n",
    "                      learning_rate=0.1, feature_fraction=0.8, bagging_fraction=0.9,\n",
    "                      bagging_freq=5, verbose=-1, n_estimators=160)\n",
    "\n",
    "\n",
    "sklgbm.fit(new_feature_train, target_train)\n",
    "sklgbm.score(new_feature_valid, target_valid)"
   ]
  },
  {
   "cell_type": "code",
   "execution_count": 61,
   "metadata": {},
   "outputs": [
    {
     "data": {
      "text/plain": [
       "308.5578587588453"
      ]
     },
     "execution_count": 61,
     "metadata": {},
     "output_type": "execute_result"
    }
   ],
   "source": [
    "sklgb_preds = sklgbm.predict(new_feature_valid)\n",
    "mean_squared_error(target_valid, sklgb_preds)"
   ]
  },
  {
   "cell_type": "code",
   "execution_count": 62,
   "metadata": {},
   "outputs": [],
   "source": [
    "# applying second order polynomial\n",
    "p = PolynomialFeatures()\n",
    "new_feature_train_p = p.fit_transform(new_feature_train)\n",
    "new_feature_valid_p = p.fit_transform(new_feature_valid)"
   ]
  },
  {
   "cell_type": "code",
   "execution_count": 63,
   "metadata": {},
   "outputs": [
    {
     "data": {
      "text/plain": [
       "0.7911523055083696"
      ]
     },
     "execution_count": 63,
     "metadata": {},
     "output_type": "execute_result"
    }
   ],
   "source": [
    "# applying Linear Regression on polynomial features\n",
    "lrpn = LinearRegression()\n",
    "lrpn.fit(new_feature_train_p, target_train)\n",
    "lrpn.score(new_feature_valid_p, target_valid)\n",
    "\n"
   ]
  },
  {
   "cell_type": "code",
   "execution_count": 64,
   "metadata": {},
   "outputs": [
    {
     "data": {
      "text/plain": [
       "313.3458506752564"
      ]
     },
     "execution_count": 64,
     "metadata": {},
     "output_type": "execute_result"
    }
   ],
   "source": [
    "new_lrp_preds = lrpn.predict(new_feature_valid_p)\n",
    "mean_squared_error(target_valid, new_lrp_preds )"
   ]
  },
  {
   "cell_type": "markdown",
   "metadata": {},
   "source": [
    "`LightGBM` model gave the best result and outperformed all other models, including second-order polynomial Linear regression. So, we choose the LightGBM as our final model.<br>\n",
    "\n",
    "Let's train the model with aggregate data then we can save the model.  Later we can use the saved model to predict the salary for test set observations."
   ]
  },
  {
   "cell_type": "code",
   "execution_count": 65,
   "metadata": {},
   "outputs": [],
   "source": [
    "# building feature importance table\n",
    "feat_imp =pd.DataFrame({'features':new_feature_train.columns, 'Importance':sklgbm.feature_importances_})\n",
    "\n",
    "feat_imp.to_csv('Feature_Importance.csv')"
   ]
  },
  {
   "cell_type": "code",
   "execution_count": 66,
   "metadata": {},
   "outputs": [
    {
     "data": {
      "text/plain": [
       "Text(0.5, 1.0, 'Top 10 Important Features')"
      ]
     },
     "execution_count": 66,
     "metadata": {},
     "output_type": "execute_result"
    },
    {
     "data": {
      "image/png": "[encoded data removed]",
      "text/plain": [
       "<Figure size 432x288 with 1 Axes>"
      ]
     },
     "metadata": {},
     "output_type": "display_data"
    }
   ],
   "source": [
    "# sort the feature importance table by importance and plot the top 10 important features\n",
    "feat_imp= feat_imp.sort_values(by='Importance' ,ascending=False)\n",
    "\n",
    "feat_imp[:10]\n",
    "\n",
    "sns.barplot(x='Importance', y='features', data=feat_imp[:10], orient='h')\n",
    "plt.title('Top 10 Important Features', fontsize=18)\n"
   ]
  },
  {
   "cell_type": "markdown",
   "metadata": {},
   "source": [
    "The developed mathematical model predicts that `yearsExperience` is the best feature followed by `Group Standard Deviation` and `milesFromMetropolis` are the top three features to predict the salaries. \n"
   ]
  },
  {
   "cell_type": "markdown",
   "metadata": {},
   "source": [
    "## Deploying the Model"
   ]
  },
  {
   "cell_type": "markdown",
   "metadata": {},
   "source": [
    "##### Let's create a pipe line to automate the process"
   ]
  },
  {
   "cell_type": "code",
   "execution_count": 67,
   "metadata": {},
   "outputs": [],
   "source": [
    "# Create pipe line with standard process to follow\n",
    "p_input = [('Scale', StandardScaler()), ('Model', LGBMRegressor(boosting_type='gbdt',\n",
    "                                                                objective='regression',\n",
    "                                                                num_leaves=40,\n",
    "                                                                learning_rate=0.1,\n",
    "                                                                feature_fraction=0.8,\n",
    "                                                                bagging_fraction=0.9,\n",
    "                                                                bagging_freq=5,\n",
    "                                                                verbose=-1,\n",
    "                                                                n_estimators=160))]\n",
    "pipeline = Pipeline(p_input)"
   ]
  },
  {
   "cell_type": "code",
   "execution_count": 68,
   "metadata": {},
   "outputs": [
    {
     "data": {
      "text/plain": [
       "0.797265778860194"
      ]
     },
     "execution_count": 68,
     "metadata": {},
     "output_type": "execute_result"
    }
   ],
   "source": [
    "# Fit the model\n",
    "pipe_Lgbm = pipeline.fit(new_features, target)\n",
    "pipe_Lgbm.score(new_features, target)"
   ]
  },
  {
   "cell_type": "code",
   "execution_count": 69,
   "metadata": {},
   "outputs": [
    {
     "data": {
      "text/plain": [
       "0.7969280588703129"
      ]
     },
     "execution_count": 69,
     "metadata": {},
     "output_type": "execute_result"
    }
   ],
   "source": [
    "# dump the model\n",
    "fileName = 'Recruiter_Assistance_Model.txt'\n",
    "joblib.dump(pipe_Lgbm, fileName)\n",
    "\n",
    "# load the model\n",
    "raModel = joblib.load(fileName)\n",
    "\n",
    "#  predictions on validation set to check saved & reloaded model is working as expected\n",
    "p_pred = raModel.score(new_feature_valid, target_valid)\n",
    "p_pred"
   ]
  },
  {
   "cell_type": "markdown",
   "metadata": {},
   "source": [
    "#####  Predicting test data salaries"
   ]
  },
  {
   "cell_type": "code",
   "execution_count": 70,
   "metadata": {},
   "outputs": [],
   "source": [
    "predictions = raModel.predict(test_df)"
   ]
  },
  {
   "cell_type": "code",
   "execution_count": 71,
   "metadata": {},
   "outputs": [],
   "source": [
    "# Saving the predictions\n",
    "np.savetxt('Predictions.csv', predictions, delimiter=',')"
   ]
  },
  {
   "cell_type": "markdown",
   "metadata": {},
   "source": [
    "## Final thoughts"
   ]
  },
  {
   "cell_type": "markdown",
   "metadata": {},
   "source": [
    "Finally, lightGBM has given the best results.<br>\n",
    "\n",
    "##### Future work scope\n",
    "Below are the points I haven't considered for this analysis and may help us to improve the MSE and prediction power.\n",
    "\n",
    "- More feature engineering.\n",
    "- Converting numerical values into categories by dividing into several groups.\n",
    "- Running for more complex model and more optimization.\n",
    "- Another level of hyperparameter tuning.\n",
    "\n",
    "\n"
   ]
  }
 ],
 "metadata": {
  "kernelspec": {
   "display_name": "Python 3",
   "language": "python",
   "name": "python3"
  },
  "language_info": {
   "codemirror_mode": {
    "name": "ipython",
    "version": 3
   },
   "file_extension": ".py",
   "mimetype": "text/x-python",
   "name": "python",
   "nbconvert_exporter": "python",
   "pygments_lexer": "ipython3",
   "version": "3.7.3"
  },
  "toc": {
   "base_numbering": 1,
   "nav_menu": {},
   "number_sections": true,
   "sideBar": true,
   "skip_h1_title": false,
   "title_cell": "Table of Contents",
   "title_sidebar": "Contents",
   "toc_cell": false,
   "toc_position": {},
   "toc_section_display": true,
   "toc_window_display": false
  }
 },
 "nbformat": 4,
 "nbformat_minor": 2
}
