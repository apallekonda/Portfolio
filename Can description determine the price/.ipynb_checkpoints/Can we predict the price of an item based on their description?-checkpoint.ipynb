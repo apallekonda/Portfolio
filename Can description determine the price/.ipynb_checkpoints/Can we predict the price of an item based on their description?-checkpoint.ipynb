{
 "cells": [
  {
   "cell_type": "markdown",
   "metadata": {},
   "source": [
    "# Can we predict the price of an item based on their description?"
   ]
  },
  {
   "cell_type": "markdown",
   "metadata": {},
   "source": [
    "> **Is it possible to predict the price of an item based on the description?** <br>\n",
    "> **How can we predict numerical values based on the text?**<br>\n",
    "\n",
    "In the following analysis, we discuss more on these, and by the end of this analysis, we answer these questions with statistical evidence."
   ]
  },
  {
   "cell_type": "markdown",
   "metadata": {},
   "source": [
    "## Defining the Problem\n",
    "\n",
    "The main objective of this analysis is to predict the price of an item by analyzing the product features, such as product description, brand, usage and category. This dataset collected from the [kagge](https://www.kaggle.com/). The raw data belong to **Mercari** business. Mercari business facilitates online portal where the consumers can sell their used items by uploading product image and respective product information. Mercari wants to provide an extra luxury feature to the consumers by predicting the price for an item based on their inputs. \n",
    "\n",
    "### Data Attributes\n",
    "\n",
    "This dataset contains around 1.5 million observation with 8 features.\n",
    "> - **train_id:** The id of the listing.\n",
    "- **name:** The title of the listing. \n",
    "- **item_condition_id:** The condition of the items provided by the seller.\n",
    "- **category_name:** Category of the listing.\n",
    "- **brand_name:** Brand name of the product.\n",
    "- **Shipping:** 1 if the seller pays and 0 if buyer pays the shipping fee by buyer.\n",
    "- **item_description:** the full description of the item. \n",
    "- **price:** The price that the item.  Price is the target variable for this analysis. The unit of price is in USD. \n",
    "\n",
    "### Evaluation Metric\n",
    "The evaluation metric for this competition is Root Mean Squared Logarithmic Error.\n",
    "\n",
    "The mathematical formula for RMSLE is\n",
    "\n",
    "\n",
    "> ${\\displaystyle \\operatorname\\epsilon  = \\sqrt{{\\frac {1}{n}}\\sum _{i=1}^{n}(log(p_{i}+1)-log(a_{i}-1))^{2}}}$\n",
    "\n",
    "Where:\n",
    "- $ϵ$ is the RMSLE value (score)\n",
    "- $n$ is the total number of observations in the (public/private) data set,\n",
    "- $pi$ is your prediction of price, and\n",
    "- $ai$ is the actual sale price for i. \n",
    "- $log(x)$ is the natural logarithm of x\n"
   ]
  },
  {
   "cell_type": "markdown",
   "metadata": {},
   "source": [
    "## Discover Insights & Pre Processing\n",
    "\n",
    "In this section, we explore more about data and prepare the data for model development. By stating that we are going to look at the underlying distribution of data, check for missing values and fix them if any. Apart from these, we also do some feature engineering before going into developing the model.\n",
    "\n",
    "### Sanity check of data\n",
    "\n",
    "In this section, we load the required libraries for this analysis into the environment. Read the data and perform a sanity check on the data. "
   ]
  },
  {
   "cell_type": "code",
   "execution_count": 6,
   "metadata": {},
   "outputs": [],
   "source": [
    "# import libraries\n",
    "import time\n",
    "import numpy as np\n",
    "import pandas as pd\n",
    "from matplotlib import pyplot as plt\n",
    "import seaborn as sns\n",
    "from scipy.sparse import csr_matrix, hstack\n",
    "from sklearn.feature_extraction.text import CountVectorizer, TfidfVectorizer\n",
    "from sklearn.feature_extraction import DictVectorizer\n",
    "from sklearn.preprocessing import LabelBinarizer, FunctionTransformer, StandardScaler\n",
    "from sklearn.model_selection import KFold, cross_val_score, train_test_split\n",
    "from sklearn.metrics import mean_squared_error\n",
    "from sklearn.linear_model import Ridge, LinearRegression, Lasso\n",
    "from string import punctuation\n",
    "from nltk.corpus import stopwords\n",
    "import lightgbm as lgb\n",
    "import warnings\n",
    "warnings.filterwarnings('ignore')\n",
    "%matplotlib inline"
   ]
  },
  {
   "cell_type": "code",
   "execution_count": 7,
   "metadata": {},
   "outputs": [],
   "source": [
    "#  Reading the data into the python environment\n",
    "train_df = pd.read_csv('Data/train.tsv', sep='\\t')\n",
    "test_df = pd.read_csv('Data/test_stg2.tsv', sep='\\t')\n"
   ]
  },
  {
   "cell_type": "code",
   "execution_count": 8,
   "metadata": {},
   "outputs": [
    {
     "data": {
      "text/html": [
       "<div>\n",
       "<style scoped>\n",
       "    .dataframe tbody tr th:only-of-type {\n",
       "        vertical-align: middle;\n",
       "    }\n",
       "\n",
       "    .dataframe tbody tr th {\n",
       "        vertical-align: top;\n",
       "    }\n",
       "\n",
       "    .dataframe thead th {\n",
       "        text-align: right;\n",
       "    }\n",
       "</style>\n",
       "<table border=\"1\" class=\"dataframe\">\n",
       "  <thead>\n",
       "    <tr style=\"text-align: right;\">\n",
       "      <th></th>\n",
       "      <th>train_id</th>\n",
       "      <th>name</th>\n",
       "      <th>item_condition_id</th>\n",
       "      <th>category_name</th>\n",
       "      <th>brand_name</th>\n",
       "      <th>price</th>\n",
       "      <th>shipping</th>\n",
       "      <th>item_description</th>\n",
       "    </tr>\n",
       "  </thead>\n",
       "  <tbody>\n",
       "    <tr>\n",
       "      <th>0</th>\n",
       "      <td>0</td>\n",
       "      <td>MLB Cincinnati Reds T Shirt Size XL</td>\n",
       "      <td>3</td>\n",
       "      <td>Men/Tops/T-shirts</td>\n",
       "      <td>NaN</td>\n",
       "      <td>10.0</td>\n",
       "      <td>1</td>\n",
       "      <td>No description yet</td>\n",
       "    </tr>\n",
       "    <tr>\n",
       "      <th>1</th>\n",
       "      <td>1</td>\n",
       "      <td>Razer BlackWidow Chroma Keyboard</td>\n",
       "      <td>3</td>\n",
       "      <td>Electronics/Computers &amp; Tablets/Components &amp; P...</td>\n",
       "      <td>Razer</td>\n",
       "      <td>52.0</td>\n",
       "      <td>0</td>\n",
       "      <td>This keyboard is in great condition and works ...</td>\n",
       "    </tr>\n",
       "    <tr>\n",
       "      <th>2</th>\n",
       "      <td>2</td>\n",
       "      <td>AVA-VIV Blouse</td>\n",
       "      <td>1</td>\n",
       "      <td>Women/Tops &amp; Blouses/Blouse</td>\n",
       "      <td>Target</td>\n",
       "      <td>10.0</td>\n",
       "      <td>1</td>\n",
       "      <td>Adorable top with a hint of lace and a key hol...</td>\n",
       "    </tr>\n",
       "    <tr>\n",
       "      <th>3</th>\n",
       "      <td>3</td>\n",
       "      <td>Leather Horse Statues</td>\n",
       "      <td>1</td>\n",
       "      <td>Home/Home Décor/Home Décor Accents</td>\n",
       "      <td>NaN</td>\n",
       "      <td>35.0</td>\n",
       "      <td>1</td>\n",
       "      <td>New with tags. Leather horses. Retail for [rm]...</td>\n",
       "    </tr>\n",
       "    <tr>\n",
       "      <th>4</th>\n",
       "      <td>4</td>\n",
       "      <td>24K GOLD plated rose</td>\n",
       "      <td>1</td>\n",
       "      <td>Women/Jewelry/Necklaces</td>\n",
       "      <td>NaN</td>\n",
       "      <td>44.0</td>\n",
       "      <td>0</td>\n",
       "      <td>Complete with certificate of authenticity</td>\n",
       "    </tr>\n",
       "  </tbody>\n",
       "</table>\n",
       "</div>"
      ],
      "text/plain": [
       "   train_id                                 name  item_condition_id  \\\n",
       "0         0  MLB Cincinnati Reds T Shirt Size XL                  3   \n",
       "1         1     Razer BlackWidow Chroma Keyboard                  3   \n",
       "2         2                       AVA-VIV Blouse                  1   \n",
       "3         3                Leather Horse Statues                  1   \n",
       "4         4                 24K GOLD plated rose                  1   \n",
       "\n",
       "                                       category_name brand_name  price  \\\n",
       "0                                  Men/Tops/T-shirts        NaN   10.0   \n",
       "1  Electronics/Computers & Tablets/Components & P...      Razer   52.0   \n",
       "2                        Women/Tops & Blouses/Blouse     Target   10.0   \n",
       "3                 Home/Home Décor/Home Décor Accents        NaN   35.0   \n",
       "4                            Women/Jewelry/Necklaces        NaN   44.0   \n",
       "\n",
       "   shipping                                   item_description  \n",
       "0         1                                 No description yet  \n",
       "1         0  This keyboard is in great condition and works ...  \n",
       "2         1  Adorable top with a hint of lace and a key hol...  \n",
       "3         1  New with tags. Leather horses. Retail for [rm]...  \n",
       "4         0          Complete with certificate of authenticity  "
      ]
     },
     "execution_count": 8,
     "metadata": {},
     "output_type": "execute_result"
    }
   ],
   "source": [
    "# first few rows of train set\n",
    "train_df.head()"
   ]
  },
  {
   "cell_type": "code",
   "execution_count": 9,
   "metadata": {},
   "outputs": [
    {
     "data": {
      "text/html": [
       "<div>\n",
       "<style scoped>\n",
       "    .dataframe tbody tr th:only-of-type {\n",
       "        vertical-align: middle;\n",
       "    }\n",
       "\n",
       "    .dataframe tbody tr th {\n",
       "        vertical-align: top;\n",
       "    }\n",
       "\n",
       "    .dataframe thead th {\n",
       "        text-align: right;\n",
       "    }\n",
       "</style>\n",
       "<table border=\"1\" class=\"dataframe\">\n",
       "  <thead>\n",
       "    <tr style=\"text-align: right;\">\n",
       "      <th></th>\n",
       "      <th>test_id</th>\n",
       "      <th>name</th>\n",
       "      <th>item_condition_id</th>\n",
       "      <th>category_name</th>\n",
       "      <th>brand_name</th>\n",
       "      <th>shipping</th>\n",
       "      <th>item_description</th>\n",
       "    </tr>\n",
       "  </thead>\n",
       "  <tbody>\n",
       "    <tr>\n",
       "      <th>0</th>\n",
       "      <td>0</td>\n",
       "      <td>Breast cancer \"I fight like a girl\" ring</td>\n",
       "      <td>1</td>\n",
       "      <td>Women/Jewelry/Rings</td>\n",
       "      <td>NaN</td>\n",
       "      <td>1</td>\n",
       "      <td>Size 7</td>\n",
       "    </tr>\n",
       "    <tr>\n",
       "      <th>1</th>\n",
       "      <td>1</td>\n",
       "      <td>25 pcs NEW 7.5\"x12\" Kraft Bubble Mailers</td>\n",
       "      <td>1</td>\n",
       "      <td>Other/Office supplies/Shipping Supplies</td>\n",
       "      <td>NaN</td>\n",
       "      <td>1</td>\n",
       "      <td>25 pcs NEW 7.5\"x12\" Kraft Bubble Mailers Lined...</td>\n",
       "    </tr>\n",
       "    <tr>\n",
       "      <th>2</th>\n",
       "      <td>2</td>\n",
       "      <td>Coach bag</td>\n",
       "      <td>1</td>\n",
       "      <td>Vintage &amp; Collectibles/Bags and Purses/Handbag</td>\n",
       "      <td>Coach</td>\n",
       "      <td>1</td>\n",
       "      <td>Brand new coach bag. Bought for [rm] at a Coac...</td>\n",
       "    </tr>\n",
       "    <tr>\n",
       "      <th>3</th>\n",
       "      <td>3</td>\n",
       "      <td>Floral Kimono</td>\n",
       "      <td>2</td>\n",
       "      <td>Women/Sweaters/Cardigan</td>\n",
       "      <td>NaN</td>\n",
       "      <td>0</td>\n",
       "      <td>-floral kimono -never worn -lightweight and pe...</td>\n",
       "    </tr>\n",
       "    <tr>\n",
       "      <th>4</th>\n",
       "      <td>4</td>\n",
       "      <td>Life after Death</td>\n",
       "      <td>3</td>\n",
       "      <td>Other/Books/Religion &amp; Spirituality</td>\n",
       "      <td>NaN</td>\n",
       "      <td>1</td>\n",
       "      <td>Rediscovering life after the loss of a loved o...</td>\n",
       "    </tr>\n",
       "  </tbody>\n",
       "</table>\n",
       "</div>"
      ],
      "text/plain": [
       "   test_id                                      name  item_condition_id  \\\n",
       "0        0  Breast cancer \"I fight like a girl\" ring                  1   \n",
       "1        1  25 pcs NEW 7.5\"x12\" Kraft Bubble Mailers                  1   \n",
       "2        2                                 Coach bag                  1   \n",
       "3        3                             Floral Kimono                  2   \n",
       "4        4                          Life after Death                  3   \n",
       "\n",
       "                                    category_name brand_name  shipping  \\\n",
       "0                             Women/Jewelry/Rings        NaN         1   \n",
       "1         Other/Office supplies/Shipping Supplies        NaN         1   \n",
       "2  Vintage & Collectibles/Bags and Purses/Handbag      Coach         1   \n",
       "3                         Women/Sweaters/Cardigan        NaN         0   \n",
       "4             Other/Books/Religion & Spirituality        NaN         1   \n",
       "\n",
       "                                    item_description  \n",
       "0                                             Size 7  \n",
       "1  25 pcs NEW 7.5\"x12\" Kraft Bubble Mailers Lined...  \n",
       "2  Brand new coach bag. Bought for [rm] at a Coac...  \n",
       "3  -floral kimono -never worn -lightweight and pe...  \n",
       "4  Rediscovering life after the loss of a loved o...  "
      ]
     },
     "execution_count": 9,
     "metadata": {},
     "output_type": "execute_result"
    }
   ],
   "source": [
    "# first few rows of test set\n",
    "test_df.head()"
   ]
  },
  {
   "cell_type": "code",
   "execution_count": 10,
   "metadata": {},
   "outputs": [
    {
     "data": {
      "text/plain": [
       "((1482535, 8), (3460725, 7))"
      ]
     },
     "execution_count": 10,
     "metadata": {},
     "output_type": "execute_result"
    }
   ],
   "source": [
    "# shape of trian and test set\n",
    "train_df.shape, test_df.shape"
   ]
  },
  {
   "cell_type": "code",
   "execution_count": 11,
   "metadata": {},
   "outputs": [
    {
     "data": {
      "text/plain": [
       "train_id               int64\n",
       "name                  object\n",
       "item_condition_id      int64\n",
       "category_name         object\n",
       "brand_name            object\n",
       "price                float64\n",
       "shipping               int64\n",
       "item_description      object\n",
       "dtype: object"
      ]
     },
     "execution_count": 11,
     "metadata": {},
     "output_type": "execute_result"
    }
   ],
   "source": [
    "# feture types in train dataset\n",
    "train_df.dtypes"
   ]
  },
  {
   "cell_type": "code",
   "execution_count": 12,
   "metadata": {},
   "outputs": [
    {
     "data": {
      "text/plain": [
       "count    1.482535e+06\n",
       "mean     2.673752e+01\n",
       "std      3.858607e+01\n",
       "min      0.000000e+00\n",
       "25%      1.000000e+01\n",
       "50%      1.700000e+01\n",
       "75%      2.900000e+01\n",
       "max      2.009000e+03\n",
       "Name: price, dtype: float64"
      ]
     },
     "execution_count": 12,
     "metadata": {},
     "output_type": "execute_result"
    }
   ],
   "source": [
    "# feture types in train dataset\n",
    "train_df['price'].describe()"
   ]
  },
  {
   "cell_type": "code",
   "execution_count": 13,
   "metadata": {},
   "outputs": [
    {
     "data": {
      "text/html": [
       "<div>\n",
       "<style scoped>\n",
       "    .dataframe tbody tr th:only-of-type {\n",
       "        vertical-align: middle;\n",
       "    }\n",
       "\n",
       "    .dataframe tbody tr th {\n",
       "        vertical-align: top;\n",
       "    }\n",
       "\n",
       "    .dataframe thead th {\n",
       "        text-align: right;\n",
       "    }\n",
       "</style>\n",
       "<table border=\"1\" class=\"dataframe\">\n",
       "  <thead>\n",
       "    <tr style=\"text-align: right;\">\n",
       "      <th></th>\n",
       "      <th>train_id</th>\n",
       "      <th>name</th>\n",
       "      <th>item_condition_id</th>\n",
       "      <th>category_name</th>\n",
       "      <th>brand_name</th>\n",
       "      <th>price</th>\n",
       "      <th>shipping</th>\n",
       "      <th>item_description</th>\n",
       "    </tr>\n",
       "  </thead>\n",
       "  <tbody>\n",
       "    <tr>\n",
       "      <th>count</th>\n",
       "      <td>1482535</td>\n",
       "      <td>1482535</td>\n",
       "      <td>1482535</td>\n",
       "      <td>1476208</td>\n",
       "      <td>849853</td>\n",
       "      <td>1482535.0</td>\n",
       "      <td>1482535</td>\n",
       "      <td>1482531</td>\n",
       "    </tr>\n",
       "    <tr>\n",
       "      <th>unique</th>\n",
       "      <td>1482535</td>\n",
       "      <td>1225273</td>\n",
       "      <td>5</td>\n",
       "      <td>1287</td>\n",
       "      <td>4809</td>\n",
       "      <td>828.0</td>\n",
       "      <td>2</td>\n",
       "      <td>1281426</td>\n",
       "    </tr>\n",
       "    <tr>\n",
       "      <th>top</th>\n",
       "      <td>1482534</td>\n",
       "      <td>Bundle</td>\n",
       "      <td>1</td>\n",
       "      <td>Women/Athletic Apparel/Pants, Tights, Leggings</td>\n",
       "      <td>PINK</td>\n",
       "      <td>10.0</td>\n",
       "      <td>0</td>\n",
       "      <td>No description yet</td>\n",
       "    </tr>\n",
       "    <tr>\n",
       "      <th>freq</th>\n",
       "      <td>1</td>\n",
       "      <td>2232</td>\n",
       "      <td>640549</td>\n",
       "      <td>60177</td>\n",
       "      <td>54088</td>\n",
       "      <td>99416.0</td>\n",
       "      <td>819435</td>\n",
       "      <td>82489</td>\n",
       "    </tr>\n",
       "  </tbody>\n",
       "</table>\n",
       "</div>"
      ],
      "text/plain": [
       "        train_id     name  item_condition_id  \\\n",
       "count    1482535  1482535            1482535   \n",
       "unique   1482535  1225273                  5   \n",
       "top      1482534   Bundle                  1   \n",
       "freq           1     2232             640549   \n",
       "\n",
       "                                         category_name brand_name      price  \\\n",
       "count                                          1476208     849853  1482535.0   \n",
       "unique                                            1287       4809      828.0   \n",
       "top     Women/Athletic Apparel/Pants, Tights, Leggings       PINK       10.0   \n",
       "freq                                             60177      54088    99416.0   \n",
       "\n",
       "        shipping    item_description  \n",
       "count    1482535             1482531  \n",
       "unique         2             1281426  \n",
       "top            0  No description yet  \n",
       "freq      819435               82489  "
      ]
     },
     "execution_count": 13,
     "metadata": {},
     "output_type": "execute_result"
    }
   ],
   "source": [
    "# quick stats on dataset\n",
    "train_df.astype('object').describe()"
   ]
  },
  {
   "cell_type": "markdown",
   "metadata": {},
   "source": [
    "The given dataset set has **1,482,535** observations. Since we are predicting price, we separate this from the main dataset and store it a **target_df** variable. Here onwards rest we represent other variables as feature dataset.\n",
    "When we look at the data type of each column, *item_condition_id* and *shipping treated* values loaded as int; but when we look at the data, it is not true. These two values have encoded information of categorical value. Statistics of the feature dataset states the following information. <br>\n",
    "- **train_id** feature has *1482535* unique values which are equal to the number of rows present in the dataset. This indicates that each row has a unique identifier. It may not be usuful. There are no missing values as there are the same number rows present in the dataset and the feature.\n",
    "- **name** feature has *1225273* unique values top name is **bundle** and it appeared 2232 time in the dataset.\n",
    "- **item_condition_id** have 5 unique values. Id *1* has the most number of occurrences that is *640549*. There are no missing values as there are the same number rows present in the dataset and the feature.\n",
    "- **category_name** feature has *1287* unique values in it and *Women/Athletic Apparel/Pants, Tights, Leggings* appeared 60177 times in the current dataset. It looks like there are missing values in this feature as a count of rows for this feature is not matching the number of rows in the dataset.\n",
    "- **brand_name** There area *4809* unique values in this feature with *PINK* is most appeared in the dataset as it appears *54088* times. It looks like there are missing values in this feature as a count of rows for this feature is not matching the number of rows in the dataset.\n",
    "- **shipping** This feature has only *2* unique values with *0* value most frequently appears in the dataset. As row count of this feature is equal to the number of rows in the dataset, we can pretend that there are no values in this feature.\n",
    "- **item_description** There are *1281426* values and *No description yet* appeared *82489* times in the dataset. Since the row count is not matching, we can pretend that there are missing values in this feature.\n",
    "- **price** This feature has *828* unique values and *10.00* appeared *99416* times in the dataset. There are no missing values.\n",
    "\n",
    "***Note: We discuss more on handling missing values in further discussions***\n",
    "\n",
    "#### critical insights after sanity check \n",
    "\n",
    "- most of the products have price **$10.00 USD**.\n",
    "- The top brand in the dataset is **PINK**.\n",
    "- Most of the items in the dataset are related **women's stuff**.\n",
    "- Majority of products comes with **extra shipping cost**.\n"
   ]
  },
  {
   "cell_type": "code",
   "execution_count": 14,
   "metadata": {},
   "outputs": [
    {
     "data": {
      "text/plain": [
       "train_id                  0\n",
       "name                      0\n",
       "item_condition_id         0\n",
       "category_name          6327\n",
       "brand_name           632682\n",
       "price                     0\n",
       "shipping                  0\n",
       "item_description          4\n",
       "dtype: int64"
      ]
     },
     "execution_count": 14,
     "metadata": {},
     "output_type": "execute_result"
    }
   ],
   "source": [
    "#  list out the numbr missing values in each feature\n",
    "# train_df.isnull().sum()/len(train_df)*100\n",
    "train_df.isnull().sum()"
   ]
  },
  {
   "cell_type": "code",
   "execution_count": 15,
   "metadata": {},
   "outputs": [
    {
     "data": {
      "text/plain": [
       "test_id                    0\n",
       "name                       0\n",
       "item_condition_id          0\n",
       "category_name          14833\n",
       "brand_name           1476490\n",
       "shipping                   0\n",
       "item_description           6\n",
       "dtype: int64"
      ]
     },
     "execution_count": 15,
     "metadata": {},
     "output_type": "execute_result"
    }
   ],
   "source": [
    "test_df.isnull().sum()"
   ]
  },
  {
   "cell_type": "markdown",
   "metadata": {},
   "source": [
    "The above table shows that brnad_name huge number of missign values ~43%. category_names feature is having ~0.4%."
   ]
  },
  {
   "cell_type": "markdown",
   "metadata": {},
   "source": [
    "### Handeling Missing Values\n",
    "\n",
    "we have only 3 features having missing values in it. brand_name has highest missing valeus. Let's fill this feature missing values with **unknown**. Let's category_name also fill with **other** value. item_descripiton has only 4 missing values these values can fill it with hihgts frequency value **No description yet**."
   ]
  },
  {
   "cell_type": "code",
   "execution_count": 95,
   "metadata": {},
   "outputs": [],
   "source": [
    "# writing function to fill the missing values in the features\n",
    "def handle_missing(df):\n",
    "    df['brand_name'] = df['brand_name'].fillna(value='unknown').astype('str')\n",
    "    df['category_name'] = df['category_name'].fillna(value='other').astype('str')  \n",
    "    df['item_description'] = df['item_description'].fillna(value='No description yet').astype('str')\n",
    "    df['shipping'] = df['shipping'].astype('str')\n",
    "    df['item_condition_id'] = df['item_condition_id'].astype('str')\n",
    "    "
   ]
  },
  {
   "cell_type": "code",
   "execution_count": 96,
   "metadata": {},
   "outputs": [],
   "source": [
    "handle_missing(train_df)\n",
    "handle_missing(test_df)"
   ]
  },
  {
   "cell_type": "code",
   "execution_count": 24,
   "metadata": {},
   "outputs": [
    {
     "name": "stdout",
     "output_type": "stream",
     "text": [
      "train_id             0\n",
      "name                 0\n",
      "item_condition_id    0\n",
      "category_name        0\n",
      "brand_name           0\n",
      "price                0\n",
      "shipping             0\n",
      "item_description     0\n",
      "dtype: int64\n",
      "Test data\n",
      "\n",
      "\n",
      "test_id              0\n",
      "name                 0\n",
      "item_condition_id    0\n",
      "category_name        0\n",
      "brand_name           0\n",
      "shipping             0\n",
      "item_description     0\n",
      "dtype: int64\n"
     ]
    }
   ],
   "source": [
    "# just to check the imputed missing values reflecting in the dataset\n",
    "print(train_df.isnull().sum())\n",
    "\n",
    "print(f'Test data\\n\\n\\n{test_df.isnull().sum()}')"
   ]
  },
  {
   "cell_type": "code",
   "execution_count": 25,
   "metadata": {},
   "outputs": [
    {
     "data": {
      "text/plain": [
       "0.05895307699312327"
      ]
     },
     "execution_count": 25,
     "metadata": {},
     "output_type": "execute_result"
    }
   ],
   "source": [
    "# Check for price values\n",
    "len(train_df[train_df.price ==0])/len(train_df)*100"
   ]
  },
  {
   "cell_type": "markdown",
   "metadata": {},
   "source": [
    "There are **0.06%** of the observation in the dataset has price as ***$0.00 USD***. Since this nigligeble, we will be delete these on=bservation from feature dataset inorder to reduce the noise in the model."
   ]
  },
  {
   "cell_type": "code",
   "execution_count": 27,
   "metadata": {},
   "outputs": [
    {
     "data": {
      "text/plain": [
       "((1481661, 8), (3460725, 7))"
      ]
     },
     "execution_count": 27,
     "metadata": {},
     "output_type": "execute_result"
    }
   ],
   "source": [
    "# get rid off 0 values items and then xhek the shape\n",
    "train_df = train_df[train_df['price']>0].reset_index(drop=True)\n",
    "train_df.shape, test_df.shape"
   ]
  },
  {
   "cell_type": "code",
   "execution_count": 28,
   "metadata": {},
   "outputs": [
    {
     "data": {
      "text/plain": [
       "(1481661, (1481661,))"
      ]
     },
     "execution_count": 28,
     "metadata": {},
     "output_type": "execute_result"
    }
   ],
   "source": [
    "# Creating traget varible and number rows in training set\n",
    "train_rows = train_df.shape[0]\n",
    "target_df = np.log1p(train_df['price'])\n",
    "train_rows, target_df.shape"
   ]
  },
  {
   "cell_type": "markdown",
   "metadata": {},
   "source": [
    "Everyting looks good. Let's do some Exploratory analysis on cleaned dataset"
   ]
  },
  {
   "cell_type": "markdown",
   "metadata": {},
   "source": [
    "### EDA\n",
    "\n",
    "In this section we will explore more about given features by plotting graphs."
   ]
  },
  {
   "cell_type": "code",
   "execution_count": 56,
   "metadata": {},
   "outputs": [
    {
     "data": {
      "text/plain": [
       "<matplotlib.axes._subplots.AxesSubplot at 0x7fa468bb32b0>"
      ]
     },
     "execution_count": 56,
     "metadata": {},
     "output_type": "execute_result"
    },
    {
     "data": {
      "image/png": "[encoded data removed]",
      "text/plain": [
       "<Figure size 1080x432 with 2 Axes>"
      ]
     },
     "metadata": {
      "needs_background": "light"
     },
     "output_type": "display_data"
    }
   ],
   "source": [
    "# Creating distribution plots of normal and log values of price \n",
    "plt.subplot(1,2,1)\n",
    "train_df['price'].plot.hist(bins=50, figsize=(15, 6), range = [0,500], color='green')\n",
    "plt.xlabel('Price')\n",
    "plt.ylabel('Frequency', fontsize=18)\n",
    "plt.title('Price Ditribution', fontsize=18)\n",
    "plt.subplot(1,2,2)\n",
    "plt.xlabel('Price', fontsize=18)\n",
    "plt.ylabel('Frequency', fontsize=18)\n",
    "plt.title('loged Price Ditribution', fontsize=18)\n",
    "np.log(train_df['price']).plot.hist(bins=50, figsize=(15, 6), range = [0,10])"
   ]
  },
  {
   "cell_type": "markdown",
   "metadata": {},
   "source": [
    "Target feature distribution has long right tail, when we look at the distribution of log price, values are lied around the $3.00 USD"
   ]
  },
  {
   "cell_type": "code",
   "execution_count": 35,
   "metadata": {},
   "outputs": [
    {
     "data": {
      "text/plain": [
       "0    0.552674\n",
       "1    0.447326\n",
       "Name: shipping, dtype: float64"
      ]
     },
     "execution_count": 35,
     "metadata": {},
     "output_type": "execute_result"
    }
   ],
   "source": [
    "train_df['shipping'].value_counts(normalize=True)"
   ]
  },
  {
   "cell_type": "markdown",
   "metadata": {},
   "source": [
    "Shipping 0 values represents shipping cose is bared by the buyer oterwise by seller. For 55% of the products, shipping cost is not included in the price. Shipping is free fro 45% of the product. Let see the relation between the shipping and price.\n",
    "\n"
   ]
  },
  {
   "cell_type": "code",
   "execution_count": 38,
   "metadata": {},
   "outputs": [],
   "source": [
    "# create separate df for free shipping nad no free shipping\n",
    "free_shipping = train_df.loc[train_df['shipping']==1, 'price']\n",
    "No_free_shipping = train_df.loc[train_df['shipping']==0, 'price']\n",
    "\n"
   ]
  },
  {
   "cell_type": "code",
   "execution_count": 52,
   "metadata": {},
   "outputs": [
    {
     "data": {
      "text/plain": [
       "<matplotlib.legend.Legend at 0x7fa43d0f5c18>"
      ]
     },
     "execution_count": 52,
     "metadata": {},
     "output_type": "execute_result"
    },
    {
     "data": {
      "image/png": "[encoded data removed]",
      "text/plain": [
       "<Figure size 1152x576 with 1 Axes>"
      ]
     },
     "metadata": {
      "needs_background": "light"
     },
     "output_type": "display_data"
    }
   ],
   "source": [
    "#  building plot to show the price distribution by the shipping category\n",
    "fig, ax = plt.subplots(figsize=(16,8))\n",
    "ax.hist(free_shipping, color='black', alpha=1.0, bins=50, range = [0, 200],label='Free Shipping')\n",
    "ax.hist(No_free_shipping, color='red', alpha=0.7, bins=50, range = [0, 200],label='Extra for Shipping')\n",
    "plt.xlabel('Price', fontsize=18)\n",
    "plt.ylabel('Frequency', fontsize=18)\n",
    "plt.title('Price Distribution by Shipping Type', fontsize=20)\n",
    "plt.legend()\n"
   ]
  },
  {
   "cell_type": "code",
   "execution_count": 43,
   "metadata": {},
   "outputs": [
    {
     "name": "stdout",
     "output_type": "stream",
     "text": [
      "The average price for the products with shipping cost is $22.58 USD.\n",
      "The average price for the products with out shipping cost is $30.13 USD.\n",
      "The median price for the products with shipping cost is $14.0 USD.\n",
      "The median price for the products with out shipping cost is $20.0 USD.\n"
     ]
    }
   ],
   "source": [
    "# lets see the average price for each shipping category\n",
    "print(f'The average price for the products with shipping cost is ${round(np.mean(free_shipping), 2)} USD.')\n",
    "print(f'The average price for the products with out shipping cost is ${round(np.mean(No_free_shipping), 2)} USD.')\n",
    "print(f'The median price for the products with shipping cost is ${round(np.median(free_shipping), 2)} USD.')\n",
    "print(f'The median price for the products with out shipping cost is ${round(np.median(No_free_shipping), 2)} USD.')"
   ]
  },
  {
   "cell_type": "markdown",
   "metadata": {},
   "source": [
    "Suprisingly average and median price for the products with free shipping is lower than products with out free shipping."
   ]
  },
  {
   "cell_type": "code",
   "execution_count": 44,
   "metadata": {},
   "outputs": [
    {
     "data": {
      "text/plain": [
       "Women/Athletic Apparel/Pants, Tights, Leggings                 60152\n",
       "Women/Tops & Blouses/T-Shirts                                  46349\n",
       "Beauty/Makeup/Face                                             34320\n",
       "Beauty/Makeup/Lips                                             29901\n",
       "Electronics/Video Games & Consoles/Games                       26547\n",
       "Beauty/Makeup/Eyes                                             25200\n",
       "Electronics/Cell Phones & Accessories/Cases, Covers & Skins    24668\n",
       "Women/Underwear/Bras                                           21254\n",
       "Women/Tops & Blouses/Tank, Cami                                20270\n",
       "Women/Tops & Blouses/Blouse                                    20269\n",
       "Name: category_name, dtype: int64"
      ]
     },
     "execution_count": 44,
     "metadata": {},
     "output_type": "execute_result"
    }
   ],
   "source": [
    "# Top 10 categories\n",
    "train_df['category_name'].value_counts()[:10]"
   ]
  },
  {
   "cell_type": "markdown",
   "metadata": {},
   "source": [
    "Most fo the category_name feature value are in three parts like *\"Beauty/Makeup/Makeup Palettes\"*. lets split these into different categories"
   ]
  },
  {
   "cell_type": "code",
   "execution_count": 64,
   "metadata": {},
   "outputs": [
    {
     "data": {
      "text/plain": [
       "Text(0.5, 1.0, 'Top 20 categories')"
      ]
     },
     "execution_count": 64,
     "metadata": {},
     "output_type": "execute_result"
    },
    {
     "data": {
      "image/png": "[encoded data removed]",
      "text/plain": [
       "<Figure size 1296x432 with 1 Axes>"
      ]
     },
     "metadata": {
      "needs_background": "light"
     },
     "output_type": "display_data"
    }
   ],
   "source": [
    "# Plotting top 20 categories\n",
    "train_df['category_name'].value_counts()[:20].plot(kind='bar', figsize=(18,6), color='indigo')\n",
    "plt.xlabel('Category Names', fontsize=18)\n",
    "plt.ylabel('Frequency', fontsize=18)\n",
    "plt.title('Top 20 categories', fontsize=18)"
   ]
  },
  {
   "cell_type": "code",
   "execution_count": 66,
   "metadata": {},
   "outputs": [
    {
     "data": {
      "text/plain": [
       "Text(0.5, 1.0, 'Top 20 Brands')"
      ]
     },
     "execution_count": 66,
     "metadata": {},
     "output_type": "execute_result"
    },
    {
     "data": {
      "image/png": "[encoded data removed]",
      "text/plain": [
       "<Figure size 1296x432 with 1 Axes>"
      ]
     },
     "metadata": {
      "needs_background": "light"
     },
     "output_type": "display_data"
    }
   ],
   "source": [
    "train_df['brand_name'].value_counts()[1:20].plot(kind='bar', figsize=(18,6), color='maroon')\n",
    "plt.xlabel('Brand Names', fontsize=18)\n",
    "plt.ylabel('Frequency', fontsize=18)\n",
    "plt.title('Top 20 Brands', fontsize=18)"
   ]
  },
  {
   "cell_type": "markdown",
   "metadata": {},
   "source": [
    "***Note:*** *Since we set the prodcts brand name to unknown where we don't have value for brand name feature, we are skipping that values while plotting.*"
   ]
  },
  {
   "cell_type": "code",
   "execution_count": 67,
   "metadata": {},
   "outputs": [
    {
     "name": "stdout",
     "output_type": "stream",
     "text": [
      "There are 4810 brands available in the current dataset\n",
      "There are 1241 brands which have on;y one item for each brand\n"
     ]
    }
   ],
   "source": [
    "#  Number of brands with unknown\n",
    "print(f'There are {len(train_df[\"brand_name\"].value_counts())} brands available in the current dataset')\n",
    "print(f'There are {sum(train_df[\"brand_name\"].value_counts() == 1)} brands which have on;y one item for each brand')"
   ]
  },
  {
   "cell_type": "code",
   "execution_count": 81,
   "metadata": {},
   "outputs": [],
   "source": [
    "# Function to split the column into three categories\n",
    "def split_cat(col):\n",
    "    try:\n",
    "        Main_cat, Sub1_cat, Sub2_cat = col.split('/')\n",
    "        return Main_cat, Sub1_cat, Sub2_cat\n",
    "    except:\n",
    "        return 'other', 'other', 'other'\n",
    "\n"
   ]
  },
  {
   "cell_type": "code",
   "execution_count": 87,
   "metadata": {},
   "outputs": [],
   "source": [
    "# creating categories dataframe\n",
    "categories = pd.DataFrame()\n",
    "categories['cat_main'], categories['cat_sub1'], categories['cat_sub2'] = zip(*train_df['category_name'].apply(split_cat))\n",
    "categories['price'] = train_df['price']\n",
    "# categories.head()"
   ]
  },
  {
   "cell_type": "code",
   "execution_count": 42,
   "metadata": {},
   "outputs": [
    {
     "data": {
      "text/plain": [
       "Women                     663990\n",
       "Beauty                    207725\n",
       "Kids                      171555\n",
       "Electronics               119577\n",
       "Men                        93292\n",
       "Home                       67831\n",
       "Vintage & Collectibles     46519\n",
       "Other                      45329\n",
       "Handmade                   30833\n",
       "Sports & Outdoors          24311\n",
       "other                      10699\n",
       "Name: cat_main, dtype: int64"
      ]
     },
     "execution_count": 42,
     "metadata": {},
     "output_type": "execute_result"
    }
   ],
   "source": [
    "categories['cat_main'].value_counts()"
   ]
  },
  {
   "cell_type": "markdown",
   "metadata": {},
   "source": [
    "***Top categories are women and beauty.*** Let's plot and see."
   ]
  },
  {
   "cell_type": "code",
   "execution_count": 86,
   "metadata": {},
   "outputs": [
    {
     "data": {
      "text/plain": [
       "Text(0.5, 0, 'Number of Items')"
      ]
     },
     "execution_count": 86,
     "metadata": {},
     "output_type": "execute_result"
    },
    {
     "data": {
      "image/png": "[encoded data removed]",
      "text/plain": [
       "<Figure size 1224x720 with 1 Axes>"
      ]
     },
     "metadata": {
      "needs_background": "light"
     },
     "output_type": "display_data"
    }
   ],
   "source": [
    "plt.figure(figsize=(17,10))\n",
    "sns.countplot(y=categories['cat_main'], order=categories['cat_main'].value_counts().index, color='navy')\n",
    "plt.title('Top 10 Main Categories', fontsize = 18)\n",
    "plt.ylabel('Main Category', fontsize = 18)\n",
    "plt.xlabel('Number of Items', fontsize = 18)"
   ]
  },
  {
   "cell_type": "code",
   "execution_count": 90,
   "metadata": {},
   "outputs": [
    {
     "name": "stdout",
     "output_type": "stream",
     "text": [
      "There are 11 main categories, 114 sub category 1 and 865 sub category 2 items in the given dataset\n"
     ]
    }
   ],
   "source": [
    "print(f'There are {len(categories[\"cat_main\"].value_counts())} main categories, {len(categories[\"cat_sub1\"].value_counts())} sub category 1 and {len(categories[\"cat_sub2\"].value_counts())} sub category 2 items in the given dataset')"
   ]
  },
  {
   "cell_type": "markdown",
   "metadata": {},
   "source": [
    "### Feature engineering 1 &  Text Processing\n",
    "\n",
    "- When we look at the **name** and **brand_name** feature values, most of the time brand name is present in the name. So, lets create name by concatenating together. \n",
    "- Other than **shipping** and **item condiiton id** other features are in text format so we will create a document for row by concatening  all other text features. "
   ]
  },
  {
   "cell_type": "code",
   "execution_count": 91,
   "metadata": {},
   "outputs": [],
   "source": [
    "def text_process(df):\n",
    "    df1 = pd.DataFrame()\n",
    "    df1['con_name'] = df['name']+ ' ' + df['brand_name']\n",
    "    df1['text'] = df['item_description'] + ' ' + df['name'] + ' ' + df['category_name']  \n",
    "    df1['shipping'] = df['shipping']\n",
    "    df1['item_condition_id'] = df['item_condition_id']\n",
    "    return df1"
   ]
  },
  {
   "cell_type": "code",
   "execution_count": 98,
   "metadata": {},
   "outputs": [
    {
     "data": {
      "text/plain": [
       "((1481661, 4), (3460725, 4), (4942386, 4))"
      ]
     },
     "execution_count": 98,
     "metadata": {},
     "output_type": "execute_result"
    }
   ],
   "source": [
    "# craete new features for train, test set and merge train & test so that it will be easier to perform vectorizing the words\n",
    "f1 = text_process(train_df)\n",
    "f2 = text_process(test_df)\n",
    "feature = pd.concat([f1, f2])\n",
    "f1.shape, f2.shape, feature.shape"
   ]
  },
  {
   "cell_type": "code",
   "execution_count": 99,
   "metadata": {},
   "outputs": [],
   "source": [
    "# function to remove the punctuation\n",
    "def rmv_pun(sent):\n",
    "    return sent.translate(str.maketrans('','', punctuation))\n",
    "\n",
    "\n",
    "# Removing punctuations\n",
    "feature['con_name'] = feature['con_name'].apply(rmv_pun)\n",
    "feature['text'] = feature['text'].apply(rmv_pun)"
   ]
  },
  {
   "cell_type": "code",
   "execution_count": 59,
   "metadata": {},
   "outputs": [],
   "source": [
    "# vectorizing the concatanated name column\n",
    "tv_n = TfidfVectorizer(max_features=100000, token_pattern='\\w+')\n",
    "X_name = tv_n.fit_transform(feature['con_name'])\n",
    "\n",
    "# vectorizing the text column\n",
    "tv_t=TfidfVectorizer(max_features=100000, token_pattern='\\w+', ngram_range=(1,3))\n",
    "X_text = tv_t.fit_transform(feature['text'])\n",
    "\n",
    "# create dummies for shipping item condistion features\n",
    "X_dummies = csr_matrix(pd.get_dummies(feature[['item_condition_id', 'shipping']], sparse=True).values)\n",
    "\n",
    "\n",
    "X_dummies.shape, X_name.shape, X_text.shape"
   ]
  },
  {
   "cell_type": "code",
   "execution_count": 69,
   "metadata": {},
   "outputs": [],
   "source": [
    "#  stack the spare matrix horizantally\n",
    "feature_df = hstack((X_name, X_text,X_dummies)).tocsr()"
   ]
  },
  {
   "cell_type": "markdown",
   "metadata": {},
   "source": [
    "### Feature engineering 2\n",
    "\n",
    "lets keep all the features as it is and combine the train and test features then perfo"
   ]
  },
  {
   "cell_type": "code",
   "execution_count": 100,
   "metadata": {},
   "outputs": [],
   "source": [
    "tr = train_df.copy()\n",
    "te = test_df.copy()"
   ]
  },
  {
   "cell_type": "code",
   "execution_count": 106,
   "metadata": {},
   "outputs": [
    {
     "name": "stderr",
     "output_type": "stream",
     "text": [
      "/Users/anilkumar/anaconda3/lib/python3.7/site-packages/ipykernel_launcher.py:1: FutureWarning: Sorting because non-concatenation axis is not aligned. A future version\n",
      "of pandas will change to not sort by default.\n",
      "\n",
      "To accept the future behavior, pass 'sort=False'.\n",
      "\n",
      "To retain the current behavior and silence the warning, pass 'sort=True'.\n",
      "\n",
      "  \"\"\"Entry point for launching an IPython kernel.\n"
     ]
    }
   ],
   "source": [
    "main_df = pd.concat([tr, te])\n",
    "sub2 = pd.DataFrame()\n",
    "sub2 = test_df[['test_id']]"
   ]
  },
  {
   "cell_type": "code",
   "execution_count": 39,
   "metadata": {},
   "outputs": [
    {
     "data": {
      "text/plain": [
       "2153"
      ]
     },
     "execution_count": 39,
     "metadata": {},
     "output_type": "execute_result"
    }
   ],
   "source": [
    "# import gc\n",
    "# gc.collect()"
   ]
  },
  {
   "cell_type": "code",
   "execution_count": 40,
   "metadata": {},
   "outputs": [],
   "source": [
    "# vectorizing the name column\n",
    "cv = CountVectorizer()\n",
    "X_name = cv.fit_transform(main_df['name'])\n",
    "\n",
    "\n",
    "# vectorizing the category name column\n",
    "cv = CountVectorizer()\n",
    "X_cat = cv.fit_transform(main_df['category_name'])\n",
    "\n",
    "\n",
    "# vectorizing the item decription column\n",
    "tv = TfidfVectorizer(max_features=100000, ngram_range=(1,3))\n",
    "X_desc = tv.fit_transform(main_df['item_description'])\n",
    "\n",
    "\n",
    "# binarizing all the brand names\n",
    "lb = LabelBinarizer(sparse_output=True)\n",
    "X_brand = lb.fit_transform(main_df['brand_name'])\n",
    "\n",
    "\n",
    "# create dummies for shipping item condistion features\n",
    "X_dummies = csr_matrix(pd.get_dummies(main_df[['item_condition_id', 'shipping']],sparse=True).values)"
   ]
  },
  {
   "cell_type": "code",
   "execution_count": 41,
   "metadata": {},
   "outputs": [],
   "source": [
    "# creating sparse matrix\n",
    "sparse_main = hstack((X_dummies, X_desc, X_brand, X_cat, X_name)).tocsr()"
   ]
  },
  {
   "cell_type": "code",
   "execution_count": null,
   "metadata": {},
   "outputs": [],
   "source": [
    "%time new_trns_train = tfvectorizer.fit_transform(train_df.values)"
   ]
  },
  {
   "cell_type": "markdown",
   "metadata": {},
   "source": [
    "## Developing"
   ]
  },
  {
   "cell_type": "markdown",
   "metadata": {},
   "source": [
    "***When I tried Ridge, Lasso, XGBoost, Random Forest, Linear Regression and LighGBM algorithms with 3 or 5 folds CV,  lightGBM was giving the best results. The plan is to use ensemble weighted model with lightGBM and Ridge. The weights for lightGBM and Ridge are 60, 40 respectively. I have tried few random combination of weights, 60:40 ratio gave best result of developed model.***\n",
    "\n",
    "Developing the model based on 1st feature engineering method"
   ]
  },
  {
   "cell_type": "code",
   "execution_count": 71,
   "metadata": {},
   "outputs": [],
   "source": [
    "# Splitting the data into train and test based on actual dataset\n",
    "\n",
    "train_var = feature_df[:train_rows]\n",
    "test_var = feature_df[train_rows:]"
   ]
  },
  {
   "cell_type": "code",
   "execution_count": 73,
   "metadata": {},
   "outputs": [],
   "source": [
    "# Define the lightgbmdataset\n",
    "train_data = lgb.Dataset(train_var, label=target_df)\n",
    "params={'learning_rate':0.75,\n",
    "       'application':'regression',\n",
    "       'max_depth': 200,\n",
    "       'verbosity': 5,\n",
    "       'metric':'RMSE'}"
   ]
  },
  {
   "cell_type": "code",
   "execution_count": 74,
   "metadata": {},
   "outputs": [],
   "source": [
    "model = lgb.train(params, train_set=train_data, num_boost_round=3200, verbose_eval=100) \n",
    "preds_lgb = 0.60*model.predict(test_var)"
   ]
  },
  {
   "cell_type": "code",
   "execution_count": 76,
   "metadata": {},
   "outputs": [],
   "source": [
    "model = Ridge(solver='sag', fit_intercept=True, random_state=201)\n",
    "model.fit(train_var, target_df)\n",
    "preds_lgb += 0.4*model.predict(test_var)\n",
    "\n"
   ]
  },
  {
   "cell_type": "code",
   "execution_count": 77,
   "metadata": {},
   "outputs": [],
   "source": [
    "subm = pd.DataFrame()\n",
    "subm = test_df[['test_id']]"
   ]
  },
  {
   "cell_type": "code",
   "execution_count": 78,
   "metadata": {},
   "outputs": [
    {
     "name": "stderr",
     "output_type": "stream",
     "text": [
      "/Users/anilkumar/anaconda3/lib/python3.7/site-packages/ipykernel_launcher.py:1: SettingWithCopyWarning: \n",
      "A value is trying to be set on a copy of a slice from a DataFrame.\n",
      "Try using .loc[row_indexer,col_indexer] = value instead\n",
      "\n",
      "See the caveats in the documentation: http://pandas.pydata.org/pandas-docs/stable/indexing.html#indexing-view-versus-copy\n",
      "  \"\"\"Entry point for launching an IPython kernel.\n"
     ]
    }
   ],
   "source": [
    "subm['price'] = np.expm1(preds_lgb)\n",
    "subm.to_csv('lgbm_ridge_mercari.csv', index=False)"
   ]
  },
  {
   "cell_type": "markdown",
   "metadata": {},
   "source": [
    "Developing the model based on 2nd feature engineering method"
   ]
  },
  {
   "cell_type": "code",
   "execution_count": 42,
   "metadata": {},
   "outputs": [],
   "source": [
    "train_data = sparse_main[:train_rows]\n",
    "test_data = sparse_main[train_rows:]\n"
   ]
  },
  {
   "cell_type": "code",
   "execution_count": 44,
   "metadata": {},
   "outputs": [],
   "source": [
    "d_t = lgb.Dataset(train_data, label=target_df)\n",
    "\n",
    "params = {\n",
    "        'learning_rate': 0.75,\n",
    "        'application': 'regression',\n",
    "        'max_depth': 3,\n",
    "        'num_leaves': 100,\n",
    "        'verbosity': -1,\n",
    "        'metric': 'RMSE',\n",
    "    }\n",
    "\n",
    "model = lgb.train(params, train_set=d_t, num_boost_round=3200, verbose_eval=100) \n",
    "preds = 0.57*model.predict(test_data)\n",
    "\n"
   ]
  },
  {
   "cell_type": "code",
   "execution_count": 45,
   "metadata": {},
   "outputs": [],
   "source": [
    "model = Ridge(solver=\"sag\", fit_intercept=True, random_state=205)\n",
    "model.fit(train_data, target_df)\n",
    "preds += 0.43*model.predict(test_data)\n"
   ]
  },
  {
   "cell_type": "code",
   "execution_count": 46,
   "metadata": {},
   "outputs": [
    {
     "name": "stderr",
     "output_type": "stream",
     "text": [
      "/Users/anilkumar/anaconda3/lib/python3.7/site-packages/ipykernel_launcher.py:1: SettingWithCopyWarning: \n",
      "A value is trying to be set on a copy of a slice from a DataFrame.\n",
      "Try using .loc[row_indexer,col_indexer] = value instead\n",
      "\n",
      "See the caveats in the documentation: http://pandas.pydata.org/pandas-docs/stable/indexing.html#indexing-view-versus-copy\n",
      "  \"\"\"Entry point for launching an IPython kernel.\n"
     ]
    }
   ],
   "source": [
    "sub2['price'] = np.expm1(preds)\n",
    "sub2.to_csv('lgbm_ridge_mercari_f2.csv', index=False)"
   ]
  },
  {
   "cell_type": "markdown",
   "metadata": {},
   "source": [
    "## Deploying\n",
    "\n",
    "Since the data collected from the kaggle, we can just export our model into a CSV file where we can use this file for look-up approach. Another way of deploying this model by creating an API which can take requests and spit out the predictions.\n",
    "\n",
    "## Final thoughts\n",
    "\n",
    "In this analysis, we have use TFIDF for the text features and count vectorizer for other features. I ran these model on MacOS with the configuration of 40GB RAM, 4.2 GHz Intel Core i7. It took around 30 min to train the model with LightGBM algorithm and 48 minutes with ridge algorithm.\n",
    "\n",
    "There is scope for improvement. Below are my thoughts for further improvements \n",
    "- Train using neural nets\n",
    "- run on GPU cluster\n",
    "- more feature engineering(concatenating various columns)\n",
    "\n",
    "In this notebook,  I have used analytical style approach where we can build the model bits and pieces while exploring and analyzing the data. We can also write the production-ready codebase by creating classes and building pipelines."
   ]
  }
 ],
 "metadata": {
  "kernelspec": {
   "display_name": "Python 3",
   "language": "python",
   "name": "python3"
  },
  "language_info": {
   "codemirror_mode": {
    "name": "ipython",
    "version": 3
   },
   "file_extension": ".py",
   "mimetype": "text/x-python",
   "name": "python",
   "nbconvert_exporter": "python",
   "pygments_lexer": "ipython3",
   "version": "3.7.3"
  },
  "toc": {
   "base_numbering": 1,
   "nav_menu": {},
   "number_sections": true,
   "sideBar": true,
   "skip_h1_title": false,
   "title_cell": "Table of Contents",
   "title_sidebar": "Contents",
   "toc_cell": false,
   "toc_position": {},
   "toc_section_display": true,
   "toc_window_display": false
  }
 },
 "nbformat": 4,
 "nbformat_minor": 2
}
